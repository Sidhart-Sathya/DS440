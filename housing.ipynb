{
 "cells": [
  {
   "cell_type": "code",
   "execution_count": 3,
   "id": "7be36744",
   "metadata": {},
   "outputs": [],
   "source": [
    "import pandas as pd\n",
    "import matplotlib as mpl\n",
    "from mpl_toolkits import mplot3d\n",
    "mpl.rcParams['agg.path.chunksize'] = 10000\n",
    "import numpy as np\n",
    "from math import sqrt\n",
    "import matplotlib.pyplot as plt\n",
    "import random\n",
    "from river import drift\n",
    "import os\n",
    "import xgboost as xgb\n",
    "from xgboost.sklearn import XGBClassifier\n",
    "from sklearn.model_selection import GridSearchCV\n",
    "from sklearn.metrics import mean_squared_error\n",
    "from sklearn.preprocessing import OneHotEncoder\n",
    "from sklearn.model_selection import train_test_split\n",
    "import scipy"
   ]
  },
  {
   "cell_type": "code",
   "execution_count": 4,
   "id": "3bc83da6",
   "metadata": {},
   "outputs": [
    {
     "data": {
      "text/plain": [
       "(10.0, 14.0, 0.0, 160.0)"
      ]
     },
     "execution_count": 4,
     "metadata": {},
     "output_type": "execute_result"
    },
    {
     "data": {
      "image/png": "[encoded data removed]",
      "text/plain": [
       "<Figure size 864x360 with 2 Axes>"
      ]
     },
     "metadata": {
      "needs_background": "light"
     },
     "output_type": "display_data"
    }
   ],
   "source": [
    "file_path = \"Housing\"\n",
    "test_params = {'max_depth':[4,8,12], 'learning_rate': [0.1, 0.01, 0.05]}\n",
    "df = pd.read_csv(os.path.join(file_path, \"train.csv\"))\n",
    "import matplotlib.pyplot as plt\n",
    "# Set up the matplotlib figure\n",
    "plt.figure(figsize=(12,5))\n",
    "#f, axes = plt.subplots(1, 2, figsize=(12, 5), sharey=True)\n",
    "plt.subplot(121)\n",
    "plt.hist(df['SalePrice'],bins=50)\n",
    "plt.xlabel('Sale price')\n",
    "plt.axis([0,800000,0,160])\n",
    "plt.subplot(122)\n",
    "plt.hist(np.log(df['SalePrice']),bins=50)\n",
    "plt.xlabel('Log (sale price)')\n",
    "plt.axis([10,14,0,160])"
   ]
  },
  {
   "cell_type": "code",
   "execution_count": 5,
   "id": "325dd30d",
   "metadata": {},
   "outputs": [
    {
     "name": "stdout",
     "output_type": "stream",
     "text": [
      "Train Year:  2006 , Test Year:  2007\n",
      "RMSE Indist 0.13284268581345732\n",
      "RMSE Outdist 0.157453733226291\n",
      "K-S p-value 0.6987459626706295 \n",
      "\n",
      "Train Year:  2007 , Test Year:  2008\n",
      "RMSE Indist 0.17708221268834323\n",
      "RMSE Outdist 0.17707739271546905\n",
      "K-S p-value 0.9437282480910046 \n",
      "\n",
      "Train Year:  2008 , Test Year:  2009\n",
      "RMSE Indist 0.15913638722025267\n",
      "RMSE Outdist 0.17231120846014436\n",
      "K-S p-value 0.5925687807855744 \n",
      "\n",
      "Train Year:  2009 , Test Year:  2010\n",
      "RMSE Indist 0.15343528048525917\n",
      "RMSE Outdist 0.1405954894161311\n",
      "K-S p-value 0.796155631657247 \n",
      "\n",
      "Done\n"
     ]
    }
   ],
   "source": [
    "random.seed(42)\n",
    "df = df[df[\"BldgType\"].str.contains(\"1Fam\")]\n",
    "df = df[df[\"SaleCondition\"].str.contains(\"Normal\")]\n",
    "df[\"SinceBuilt\"] = df[\"YrSold\"] - df[\"YearBuilt\"]\n",
    "min_year = df[\"YrSold\"].min()\n",
    "max_year = df[\"YrSold\"].max()\n",
    "X = df[[\"LotFrontage\", \"LotArea\", \"OverallQual\", \"OverallCond\", \"TotalBsmtSF\", \"FullBath\", \"HalfBath\", \"BedroomAbvGr\", \"KitchenAbvGr\", \"TotRmsAbvGrd\", \"SinceBuilt\", \"YrSold\"]]\n",
    "y = df[[\"SalePrice\", \"YrSold\"]]\n",
    "X_train, X_test, y_train, y_test = train_test_split(X, y, test_size=0.33,random_state=42)\n",
    "all_error_indist = np.empty(1,)\n",
    "all_error_outdist = np.empty(1,)\n",
    "for i in range(min_year, max_year):\n",
    "    print(\"Train Year: \", i, \", Test Year: \", i+1)\n",
    "    X_train_indist = X_train[X_train[\"YrSold\"] == i]\n",
    "    X_train_outdist = X_train[X_train[\"YrSold\"] == i+1]\n",
    "    #X_train_outdist = X_train[X_train[\"YrSold\"] > i]\n",
    "    y_train_indist = np.log1p(y_train[y_train[\"YrSold\"] == i].drop(\"YrSold\",axis=1))\n",
    "    y_train_outdist = np.log1p(y_train[y_train[\"YrSold\"] == i+1].drop(\"YrSold\",axis=1))\n",
    "    #y_train_outdist = np.log1p(y_train[y_train[\"YrSold\"] > i].drop(\"YrSold\",axis=1))\n",
    "    \n",
    "    X_test_indist = X_test[X_test[\"YrSold\"] == i]\n",
    "    X_test_outdist = X_test[X_test[\"YrSold\"] == i+1]\n",
    "    #X_test_outdist = X_test[X_test[\"YrSold\"] > i]\n",
    "    y_test_indist = np.log1p(y_test[y_test[\"YrSold\"] == i].drop(\"YrSold\",axis=1))\n",
    "    y_test_outdist = np.log1p(y_test[y_test[\"YrSold\"] == i+1].drop(\"YrSold\",axis=1))\n",
    "    #y_test_outdist = np.log1p(y_test[y_test[\"YrSold\"] > i].drop(\"YrSold\",axis=1))\n",
    "    \n",
    "    xgbr = xgb.XGBRegressor(random_state=42)\n",
    "    model = GridSearchCV(estimator = xgbr,param_grid = test_params,verbose=False)\n",
    "    model.fit(X_train_indist, y_train_indist)\n",
    "    \n",
    "    preds_indist = model.predict(X_test_indist)\n",
    "    error_indist = np.subtract(preds_indist, y_test_indist[\"SalePrice\"])\n",
    "    rmse_indist = sqrt(mean_squared_error(y_test_indist, preds_indist))\n",
    "    all_error_indist = np.append(all_error_indist, error_indist)\n",
    "    \n",
    "    X_outdist = pd.concat([X_train_outdist, X_test_outdist])\n",
    "    y_outdist = np.transpose(np.array(pd.concat([y_train_outdist, y_test_outdist])))[0]\n",
    "    preds_outdist = model.predict(X_outdist)\n",
    "    error_outdist = np.subtract(preds_outdist, y_outdist)\n",
    "    rmse_outdist = sqrt(mean_squared_error(y_outdist, preds_outdist))\n",
    "    all_error_outdist = np.append(all_error_outdist, error_outdist)\n",
    "    \n",
    "    ks_pval = scipy.stats.kstest(error_outdist, error_indist, alternative='two-sided', method='auto')[1]\n",
    "    print(\"RMSE Indist\", rmse_indist)\n",
    "    print(\"RMSE Outdist\", rmse_outdist)\n",
    "    print(\"K-S p-value\", ks_pval, \"\\n\")\n",
    "print(\"Done\")"
   ]
  },
  {
   "cell_type": "code",
   "execution_count": null,
   "id": "51645614",
   "metadata": {},
   "outputs": [],
   "source": [
    "random.seed(42)\n",
    "file_path = \"Housing\"\n",
    "test_params = {'max_depth':[4,8,12], 'learning_rate': [0.1, 0.01, 0.05]}\n",
    "df = pd.read_csv(os.path.join(file_path, \"train.csv\"))\n",
    "df = df[df[\"BldgType\"].str.contains(\"1Fam\")]\n",
    "df = df[df[\"SaleCondition\"].str.contains(\"Normal\")]\n",
    "df[\"SinceBuilt\"] = df[\"YrSold\"] - df[\"YearBuilt\"]\n",
    "min_year = df[\"YrSold\"].min()\n",
    "max_year = df[\"YrSold\"].max()\n",
    "X = df[[\"LotFrontage\", \"LotArea\", \"OverallQual\", \"OverallCond\", \"TotalBsmtSF\", \"FullBath\", \"HalfBath\", \"BedroomAbvGr\", \"KitchenAbvGr\", \"TotRmsAbvGrd\", \"SinceBuilt\", \"YrSold\"]]\n",
    "y = df[[\"SalePrice\", \"YrSold\"]]\n",
    "X_train, X_test, y_train, y_test = train_test_split(X, y, test_size=0.33,random_state=42)\n",
    "all_error_indist = np.empty(1,)\n",
    "all_error_outdist = np.empty(1,)\n",
    "X_train_indist = X_train[X_train[\"YrSold\"] < 2008]\n",
    "X_train_outdist = X_train[X_train[\"YrSold\"] > 2008]\n",
    "y_train_indist = np.log1p(y_train[y_train[\"YrSold\"] < 2008].drop(\"YrSold\",axis=1))\n",
    "y_train_outdist = np.log1p(y_train[y_train[\"YrSold\"] > 2008].drop(\"YrSold\",axis=1))\n",
    "\n",
    "X_test_indist = X_test[X_test[\"YrSold\"] < 2008]\n",
    "X_test_outdist = X_test[X_test[\"YrSold\"] > 2008]\n",
    "y_test_indist = np.log1p(y_test[y_test[\"YrSold\"] < 2008].drop(\"YrSold\",axis=1))\n",
    "y_test_outdist = np.log1p(y_test[y_test[\"YrSold\"] > 2008].drop(\"YrSold\",axis=1))\n",
    "\n",
    "xgbr = xgb.XGBRegressor(random_state=42)\n",
    "model = GridSearchCV(estimator = xgbr,param_grid = test_params,verbose=True)\n",
    "model.fit(X_train_indist, y_train_indist)\n",
    "\n",
    "preds_indist = model.predict(X_test_indist)\n",
    "error_indist = np.subtract(y_test_indist[\"SalePrice\"], preds_indist)\n",
    "rmse_indist = sqrt(mean_squared_error(y_test_indist, preds_indist))\n",
    "all_error_indist = np.append(all_error_indist, error_indist)\n",
    "\n",
    "X_outdist = pd.concat([X_train_outdist, X_test_outdist])\n",
    "y_outdist = np.transpose(np.array(pd.concat([y_train_outdist, y_test_outdist])))[0]\n",
    "preds_outdist = model.predict(X_outdist)\n",
    "error_outdist = np.subtract(y_outdist, preds_outdist)\n",
    "rmse_outdist = sqrt(mean_squared_error(y_outdist, preds_outdist))\n",
    "all_error_outdist = np.append(all_error_outdist, error_outdist)\n",
    "\n",
    "ks_pval = scipy.stats.kstest(error_outdist, error_indist, alternative='two-sided', method='auto')[1]\n",
    "print(\"RMSE Indist\", rmse_indist)\n",
    "print(\"RMSE Outdist\", rmse_outdist)\n",
    "print(\"K-S p-value\", ks_pval)\n",
    "print(\"Done\")"
   ]
  },
  {
   "cell_type": "code",
   "execution_count": null,
   "id": "42dea8ff",
   "metadata": {},
   "outputs": [],
   "source": [
    "import random\n",
    "import numpy\n",
    "from matplotlib import pyplot\n",
    "\n",
    "\n",
    "bins = numpy.linspace(-1, 1, 50)\n",
    "\n",
    "pyplot.hist(all_error_indist, bins, density=True, alpha=0.5, label='indist')\n",
    "pyplot.hist(all_error_outdist, bins, density=True, alpha=0.5, label='outdist')\n",
    "pyplot.legend(loc='upper right')\n",
    "plt.xlabel(\"Residuals (Actual - Predicted)\")\n",
    "plt.ylabel(\"Density\")\n",
    "pyplot.show()"
   ]
  }
 ],
 "metadata": {
  "kernelspec": {
   "display_name": "Python 3 (ipykernel)",
   "language": "python",
   "name": "python3"
  },
  "language_info": {
   "codemirror_mode": {
    "name": "ipython",
    "version": 3
   },
   "file_extension": ".py",
   "mimetype": "text/x-python",
   "name": "python",
   "nbconvert_exporter": "python",
   "pygments_lexer": "ipython3",
   "version": "3.9.7"
  }
 },
 "nbformat": 4,
 "nbformat_minor": 5
}
