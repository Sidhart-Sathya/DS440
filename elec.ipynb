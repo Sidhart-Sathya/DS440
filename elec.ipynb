{
 "cells": [
  {
   "cell_type": "markdown",
   "metadata": {},
   "source": [
    "https://www.kaggle.com/datasets/ulrikthygepedersen/electricity-demands\n",
    "\n",
    "things to improve\n",
    "- create standard size variable to easily adjust\n",
    "- the entire project"
   ]
  },
  {
   "cell_type": "code",
   "execution_count": 315,
   "metadata": {},
   "outputs": [],
   "source": [
    "import pandas as pd\n",
    "import numpy as np\n",
    "import matplotlib.pyplot as plt\n",
    "from sklearn.linear_model import LogisticRegression\n",
    "from sklearn.datasets import make_classification\n",
    "from sklearn.model_selection import train_test_split\n",
    "from sklearn.metrics import f1_score\n",
    "from river import metrics\n",
    "from river.drift import ADWIN"
   ]
  },
  {
   "cell_type": "code",
   "execution_count": 316,
   "metadata": {},
   "outputs": [
    {
     "data": {
      "text/html": [
       "<div>\n",
       "<style scoped>\n",
       "    .dataframe tbody tr th:only-of-type {\n",
       "        vertical-align: middle;\n",
       "    }\n",
       "\n",
       "    .dataframe tbody tr th {\n",
       "        vertical-align: top;\n",
       "    }\n",
       "\n",
       "    .dataframe thead th {\n",
       "        text-align: right;\n",
       "    }\n",
       "</style>\n",
       "<table border=\"1\" class=\"dataframe\">\n",
       "  <thead>\n",
       "    <tr style=\"text-align: right;\">\n",
       "      <th></th>\n",
       "      <th>date</th>\n",
       "      <th>day</th>\n",
       "      <th>period</th>\n",
       "      <th>nswprice</th>\n",
       "      <th>nswdemand</th>\n",
       "      <th>vicprice</th>\n",
       "      <th>vicdemand</th>\n",
       "      <th>transfer</th>\n",
       "      <th>class</th>\n",
       "    </tr>\n",
       "  </thead>\n",
       "  <tbody>\n",
       "    <tr>\n",
       "      <th>0</th>\n",
       "      <td>0.0</td>\n",
       "      <td>b'2'</td>\n",
       "      <td>0.000000</td>\n",
       "      <td>0.056443</td>\n",
       "      <td>0.439155</td>\n",
       "      <td>0.003467</td>\n",
       "      <td>0.422915</td>\n",
       "      <td>0.414912</td>\n",
       "      <td>1</td>\n",
       "    </tr>\n",
       "    <tr>\n",
       "      <th>1</th>\n",
       "      <td>0.0</td>\n",
       "      <td>b'2'</td>\n",
       "      <td>0.021277</td>\n",
       "      <td>0.051699</td>\n",
       "      <td>0.415055</td>\n",
       "      <td>0.003467</td>\n",
       "      <td>0.422915</td>\n",
       "      <td>0.414912</td>\n",
       "      <td>1</td>\n",
       "    </tr>\n",
       "    <tr>\n",
       "      <th>2</th>\n",
       "      <td>0.0</td>\n",
       "      <td>b'2'</td>\n",
       "      <td>0.042553</td>\n",
       "      <td>0.051489</td>\n",
       "      <td>0.385004</td>\n",
       "      <td>0.003467</td>\n",
       "      <td>0.422915</td>\n",
       "      <td>0.414912</td>\n",
       "      <td>1</td>\n",
       "    </tr>\n",
       "    <tr>\n",
       "      <th>3</th>\n",
       "      <td>0.0</td>\n",
       "      <td>b'2'</td>\n",
       "      <td>0.063830</td>\n",
       "      <td>0.045485</td>\n",
       "      <td>0.314639</td>\n",
       "      <td>0.003467</td>\n",
       "      <td>0.422915</td>\n",
       "      <td>0.414912</td>\n",
       "      <td>1</td>\n",
       "    </tr>\n",
       "    <tr>\n",
       "      <th>4</th>\n",
       "      <td>0.0</td>\n",
       "      <td>b'2'</td>\n",
       "      <td>0.085106</td>\n",
       "      <td>0.042482</td>\n",
       "      <td>0.251116</td>\n",
       "      <td>0.003467</td>\n",
       "      <td>0.422915</td>\n",
       "      <td>0.414912</td>\n",
       "      <td>0</td>\n",
       "    </tr>\n",
       "  </tbody>\n",
       "</table>\n",
       "</div>"
      ],
      "text/plain": [
       "   date   day    period  nswprice  nswdemand  vicprice  vicdemand  transfer  \\\n",
       "0   0.0  b'2'  0.000000  0.056443   0.439155  0.003467   0.422915  0.414912   \n",
       "1   0.0  b'2'  0.021277  0.051699   0.415055  0.003467   0.422915  0.414912   \n",
       "2   0.0  b'2'  0.042553  0.051489   0.385004  0.003467   0.422915  0.414912   \n",
       "3   0.0  b'2'  0.063830  0.045485   0.314639  0.003467   0.422915  0.414912   \n",
       "4   0.0  b'2'  0.085106  0.042482   0.251116  0.003467   0.422915  0.414912   \n",
       "\n",
       "   class  \n",
       "0      1  \n",
       "1      1  \n",
       "2      1  \n",
       "3      1  \n",
       "4      0  "
      ]
     },
     "execution_count": 316,
     "metadata": {},
     "output_type": "execute_result"
    }
   ],
   "source": [
    "data = pd.read_csv(\"/Users/williamzwetolitz/Desktop/ds440/DS440/electricity.csv\")\n",
    "data['class'] = data['class'].astype(pd.StringDtype())\n",
    "data['class'] = data['class'].str.replace(\"b'UP'\", '1')\n",
    "data['class'] = data['class'].str.replace(\"b'DOWN'\", '0')\n",
    "data['class'] = data['class'].astype(int)\n",
    "data.head()"
   ]
  },
  {
   "cell_type": "code",
   "execution_count": 317,
   "metadata": {},
   "outputs": [
    {
     "data": {
      "text/plain": [
       "(45312, 9)"
      ]
     },
     "execution_count": 317,
     "metadata": {},
     "output_type": "execute_result"
    }
   ],
   "source": [
    "data.shape"
   ]
  },
  {
   "cell_type": "code",
   "execution_count": 318,
   "metadata": {},
   "outputs": [
    {
     "data": {
      "text/html": [
       "<div>\n",
       "<style scoped>\n",
       "    .dataframe tbody tr th:only-of-type {\n",
       "        vertical-align: middle;\n",
       "    }\n",
       "\n",
       "    .dataframe tbody tr th {\n",
       "        vertical-align: top;\n",
       "    }\n",
       "\n",
       "    .dataframe thead th {\n",
       "        text-align: right;\n",
       "    }\n",
       "</style>\n",
       "<table border=\"1\" class=\"dataframe\">\n",
       "  <thead>\n",
       "    <tr style=\"text-align: right;\">\n",
       "      <th></th>\n",
       "      <th>date</th>\n",
       "      <th>day</th>\n",
       "      <th>period</th>\n",
       "      <th>nswprice</th>\n",
       "      <th>nswdemand</th>\n",
       "      <th>vicprice</th>\n",
       "      <th>vicdemand</th>\n",
       "      <th>transfer</th>\n",
       "      <th>class</th>\n",
       "    </tr>\n",
       "  </thead>\n",
       "  <tbody>\n",
       "    <tr>\n",
       "      <th>0</th>\n",
       "      <td>0.0</td>\n",
       "      <td>b'2'</td>\n",
       "      <td>0.000000</td>\n",
       "      <td>0.056443</td>\n",
       "      <td>0.439155</td>\n",
       "      <td>0.003467</td>\n",
       "      <td>0.422915</td>\n",
       "      <td>0.414912</td>\n",
       "      <td>1</td>\n",
       "    </tr>\n",
       "    <tr>\n",
       "      <th>1</th>\n",
       "      <td>0.0</td>\n",
       "      <td>b'2'</td>\n",
       "      <td>0.021277</td>\n",
       "      <td>0.051699</td>\n",
       "      <td>0.415055</td>\n",
       "      <td>0.003467</td>\n",
       "      <td>0.422915</td>\n",
       "      <td>0.414912</td>\n",
       "      <td>1</td>\n",
       "    </tr>\n",
       "    <tr>\n",
       "      <th>2</th>\n",
       "      <td>0.0</td>\n",
       "      <td>b'2'</td>\n",
       "      <td>0.042553</td>\n",
       "      <td>0.051489</td>\n",
       "      <td>0.385004</td>\n",
       "      <td>0.003467</td>\n",
       "      <td>0.422915</td>\n",
       "      <td>0.414912</td>\n",
       "      <td>1</td>\n",
       "    </tr>\n",
       "    <tr>\n",
       "      <th>3</th>\n",
       "      <td>0.0</td>\n",
       "      <td>b'2'</td>\n",
       "      <td>0.063830</td>\n",
       "      <td>0.045485</td>\n",
       "      <td>0.314639</td>\n",
       "      <td>0.003467</td>\n",
       "      <td>0.422915</td>\n",
       "      <td>0.414912</td>\n",
       "      <td>1</td>\n",
       "    </tr>\n",
       "    <tr>\n",
       "      <th>4</th>\n",
       "      <td>0.0</td>\n",
       "      <td>b'2'</td>\n",
       "      <td>0.085106</td>\n",
       "      <td>0.042482</td>\n",
       "      <td>0.251116</td>\n",
       "      <td>0.003467</td>\n",
       "      <td>0.422915</td>\n",
       "      <td>0.414912</td>\n",
       "      <td>0</td>\n",
       "    </tr>\n",
       "  </tbody>\n",
       "</table>\n",
       "</div>"
      ],
      "text/plain": [
       "   date   day    period  nswprice  nswdemand  vicprice  vicdemand  transfer  \\\n",
       "0   0.0  b'2'  0.000000  0.056443   0.439155  0.003467   0.422915  0.414912   \n",
       "1   0.0  b'2'  0.021277  0.051699   0.415055  0.003467   0.422915  0.414912   \n",
       "2   0.0  b'2'  0.042553  0.051489   0.385004  0.003467   0.422915  0.414912   \n",
       "3   0.0  b'2'  0.063830  0.045485   0.314639  0.003467   0.422915  0.414912   \n",
       "4   0.0  b'2'  0.085106  0.042482   0.251116  0.003467   0.422915  0.414912   \n",
       "\n",
       "   class  \n",
       "0      1  \n",
       "1      1  \n",
       "2      1  \n",
       "3      1  \n",
       "4      0  "
      ]
     },
     "execution_count": 318,
     "metadata": {},
     "output_type": "execute_result"
    }
   ],
   "source": [
    "original_train = data.head(5000) # using 5000 rows for orginal training of model\n",
    "test_data = data.tail(45312) # rest of the data will be the \"new\" incoming data we test on\n",
    "original_train.head()"
   ]
  },
  {
   "cell_type": "code",
   "execution_count": 319,
   "metadata": {},
   "outputs": [],
   "source": [
    "X = data[['nswprice', 'nswdemand', 'vicprice', 'vicdemand']].values\n",
    "y = data['class'].values\n",
    "X_train, X_test, y_train, y_test = X[:5000], X[5000:], y[:5000], y[5000:]\n",
    "\n",
    "logreg = LogisticRegression()\n",
    "adwin = ADWIN()\n",
    "\n",
    "f1_scores = []\n",
    "drift_spots = []\n",
    "\n",
    "for i, (x, y_true) in enumerate(zip(X_test, y_test)):\n",
    "    if i < 5000:\n",
    "        if X_train.shape[0] > 0:\n",
    "            logreg.fit(X_train, y_train)\n",
    "\n",
    "    else:\n",
    "        y_pred = logreg.predict(x.reshape(1, -1))[0]\n",
    "        adwin.update(int(y_pred == y_true))\n",
    "\n",
    "        if i % 50 == 0:\n",
    "            y_pred_history = logreg.predict(X_test[:i+1]).reshape(-1, 1)\n",
    "            f1_scores.append(f1_score(y_test[:i+1], y_pred_history))\n",
    "\n",
    "        if adwin.drift_detected:\n",
    "            drift_spots.append(i)\n",
    "            logreg = LogisticRegression()\n",
    "            logreg.fit(X[i-5000:i], y[i-5000:i])\n",
    "            adwin = ADWIN()"
   ]
  },
  {
   "cell_type": "code",
   "execution_count": 320,
   "metadata": {},
   "outputs": [
    {
     "name": "stdout",
     "output_type": "stream",
     "text": [
      "53\n"
     ]
    }
   ],
   "source": [
    "#print(f1_scores)\n",
    "print(len(drift_spots))"
   ]
  },
  {
   "cell_type": "code",
   "execution_count": 321,
   "metadata": {},
   "outputs": [
    {
     "name": "stdout",
     "output_type": "stream",
     "text": [
      "[5191, 5447, 6023, 6695, 7015, 7239, 7495, 7847, 9255, 10279, 10791, 12071, 12647, 15719, 16199, 18695, 19335, 19783, 19975, 20295, 20807, 20967, 21191, 21799, 22023, 22311, 26375, 27015, 27911, 28327, 28871, 28999, 29447, 29863, 30119, 30439, 30791, 30983, 31463, 31975, 32359, 32903, 33511, 33831, 34183, 36167, 37575, 37959, 38375, 39079, 39367, 39783, 40167]\n"
     ]
    }
   ],
   "source": [
    "drift_diff = [x - drift_spots[i - 1] for i, x in enumerate(drift_spots)][1:]\n",
    "print(drift_spots)"
   ]
  },
  {
   "cell_type": "code",
   "execution_count": 322,
   "metadata": {},
   "outputs": [],
   "source": [
    "cleaned_spots = [(x - 5000)/50 for x in drift_spots]"
   ]
  },
  {
   "cell_type": "code",
   "execution_count": 323,
   "metadata": {},
   "outputs": [
    {
     "data": {
      "image/png": "[encoded data removed]",
      "text/plain": [
       "<Figure size 2500x300 with 1 Axes>"
      ]
     },
     "metadata": {},
     "output_type": "display_data"
    }
   ],
   "source": [
    "#fig = plt.figure(figsize=(9,3), tight_layout=True)\n",
    "f1_array = np.array(f1_scores)\n",
    "xs = [x for x in range(len(f1_scores))]\n",
    "plt.rcParams['figure.figsize'] = [25,3]\n",
    "for i in cleaned_spots:\n",
    "    plt.axvline(x=i)\n",
    "plt.scatter(xs, f1_array)\n",
    "plt.title(\"Logisitc Regression and Drift Detection, F1: 50, Retrain: 5000\")\n",
    "plt.show()\n"
   ]
  },
  {
   "cell_type": "code",
   "execution_count": 324,
   "metadata": {},
   "outputs": [
    {
     "name": "stdout",
     "output_type": "stream",
     "text": [
      "average f1 score: 0.5943040020036943\n"
     ]
    }
   ],
   "source": [
    "print(\"average f1 score: \" + str(sum(f1_scores)/len(f1_scores)))"
   ]
  },
  {
   "cell_type": "markdown",
   "metadata": {},
   "source": [
    "Below is the model without drift detection"
   ]
  },
  {
   "cell_type": "code",
   "execution_count": null,
   "metadata": {},
   "outputs": [],
   "source": [
    "X = data[['nswprice', 'nswdemand', 'vicprice', 'vicdemand']].values\n",
    "y = data['class'].values\n",
    "X_train, X_test, y_train, y_test = X[:5000], X[5000:], y[:5000], y[5000:]\n",
    "\n",
    "logreg = LogisticRegression()\n",
    "f1_scores_2 = []\n",
    "\n",
    "for i, (x, y_true) in enumerate(zip(X_test, y_test)):\n",
    "    if i < 5000:\n",
    "        if X_train.shape[0] > 0:\n",
    "            logreg.fit(X_train, y_train)\n",
    "\n",
    "    else:\n",
    "        y_pred = logreg.predict(x.reshape(1, -1))[0]\n",
    "        if i % 50 == 0:\n",
    "            y_pred_history = logreg.predict(X_test[:i+1]).reshape(-1, 1)\n",
    "            f1_scores_2.append(f1_score(y_test[:i+1], y_pred_history))\n",
    "\n",
    "print(f1_scores_2)"
   ]
  },
  {
   "cell_type": "code",
   "execution_count": 330,
   "metadata": {},
   "outputs": [
    {
     "name": "stdout",
     "output_type": "stream",
     "text": [
      "0.39697870922904943\n"
     ]
    }
   ],
   "source": [
    "print(sum(f1_scores_2)/len(f1_scores_2))"
   ]
  },
  {
   "cell_type": "code",
   "execution_count": 326,
   "metadata": {},
   "outputs": [
    {
     "data": {
      "image/png": "[encoded data removed]",
      "text/plain": [
       "<Figure size 2500x300 with 1 Axes>"
      ]
     },
     "metadata": {},
     "output_type": "display_data"
    }
   ],
   "source": [
    "f1_2_array = np.array(f1_scores_2)\n",
    "xs = [x for x in range(len(f1_scores))]\n",
    "plt.rcParams['figure.figsize'] = [25,3]\n",
    "for i in cleaned_spots:\n",
    "    plt.axvline(x=i)\n",
    "plt.scatter(xs, f1_array)\n",
    "plt.scatter(xs, f1_2_array)\n",
    "plt.title(\"Logisitc Regression with and without Drift Detection\")\n",
    "plt.show()"
   ]
  },
  {
   "cell_type": "markdown",
   "metadata": {},
   "source": [
    "Below is a test on generated data"
   ]
  },
  {
   "cell_type": "code",
   "execution_count": 327,
   "metadata": {},
   "outputs": [
    {
     "name": "stdout",
     "output_type": "stream",
     "text": [
      "[]\n"
     ]
    }
   ],
   "source": [
    "from sklearn.linear_model import LogisticRegression\n",
    "from sklearn.datasets import make_classification\n",
    "from sklearn.metrics import f1_score\n",
    "from river.drift import ADWIN\n",
    "\n",
    "# Generate a random dataset\n",
    "X, y = make_classification(n_samples=45000, n_features=10, n_informative=5, random_state=42)\n",
    "\n",
    "X_train, X_test, y_train, y_test = X[:5000], X[5000:], y[:5000], y[5000:]\n",
    "\n",
    "logreg = LogisticRegression()\n",
    "adwin = ADWIN()\n",
    "f1_scores_3 = []\n",
    "\n",
    "for i, (x, y_true) in enumerate(zip(X_test, y_test)):\n",
    "\n",
    "    if i < 5000:\n",
    "        logreg.fit(X_train, y_train)\n",
    "        \n",
    "    y_pred = logreg.predict(x.reshape(1, -1))[0]\n",
    "    adwin.update(int(y_pred == y_true))\n",
    "    \n",
    "    if i % 50 == 0:\n",
    "        y_pred_history = logreg.predict(X_test[:i+1]).reshape(-1, 1)\n",
    "        f1_scores.append(f1_score(y_test[:i+1], y_pred_history))\n",
    "    \n",
    "    if adwin.drift_detected:\n",
    "        logreg = LogisticRegression()\n",
    "        adwin = ADWIN()\n",
    "\n",
    "print(f1_scores_3)"
   ]
  },
  {
   "cell_type": "code",
   "execution_count": 328,
   "metadata": {},
   "outputs": [
    {
     "ename": "ZeroDivisionError",
     "evalue": "division by zero",
     "output_type": "error",
     "traceback": [
      "\u001b[0;31m---------------------------------------------------------------------------\u001b[0m",
      "\u001b[0;31mZeroDivisionError\u001b[0m                         Traceback (most recent call last)",
      "Cell \u001b[0;32mIn[328], line 1\u001b[0m\n\u001b[0;32m----> 1\u001b[0m \u001b[39mprint\u001b[39m(\u001b[39msum\u001b[39;49m(f1_scores_3)\u001b[39m/\u001b[39;49m\u001b[39mlen\u001b[39;49m(f1_scores_3))\n",
      "\u001b[0;31mZeroDivisionError\u001b[0m: division by zero"
     ]
    }
   ],
   "source": [
    "print(sum(f1_scores_3)/len(f1_scores_3))"
   ]
  },
  {
   "cell_type": "markdown",
   "metadata": {},
   "source": [
    "Varying f1 score subset size and retraining size  - Improves f1 scores slightly, increases run time significantly\n",
    "\n",
    "retraining size vs avg f1:\n",
    "\n",
    "2500 - 0.5581,\n",
    "5000 - 0.5943,\n",
    "7500 - 0.6358\n",
    "\n",
    "f1 scores do not improve much with an increased training size, the smaller training size might be worth it despite the small loss in performance. 2500 has a lot more variability in the f1 scores, including larger drops between before/after drift detection"
   ]
  },
  {
   "cell_type": "code",
   "execution_count": null,
   "metadata": {},
   "outputs": [],
   "source": [
    "X = data[['nswprice', 'nswdemand', 'vicprice', 'vicdemand']].values\n",
    "y = data['class'].values\n",
    "X_train, X_test, y_train, y_test = X[:2500], X[2500:], y[:2500], y[2500:]\n",
    "\n",
    "logreg = LogisticRegression()\n",
    "adwin = ADWIN()\n",
    "\n",
    "f1_scores_4 = []\n",
    "drift_spots_2 = []\n",
    "\n",
    "for i, (x, y_true) in enumerate(zip(X_test, y_test)):\n",
    "    if i < 2500:\n",
    "        if X_train.shape[0] > 0:\n",
    "            logreg.fit(X_train, y_train)\n",
    "\n",
    "    else:\n",
    "        y_pred = logreg.predict(x.reshape(1, -1))[0]\n",
    "        adwin.update(int(y_pred == y_true))\n",
    "\n",
    "        if i % 50 == 0:\n",
    "            y_pred_history = logreg.predict(X_test[:i+1]).reshape(-1, 1)\n",
    "            f1_scores_4.append(f1_score(y_test[:i+1], y_pred_history))\n",
    "\n",
    "        if adwin.drift_detected:\n",
    "            drift_spots_2.append(i)\n",
    "            logreg = LogisticRegression()\n",
    "            logreg.fit(X[i-2500:i], y[i-2500:i])\n",
    "            adwin = ADWIN()\n",
    "\n",
    "print(f1_scores_4)"
   ]
  },
  {
   "cell_type": "code",
   "execution_count": null,
   "metadata": {},
   "outputs": [],
   "source": [
    "cleaned_spots_2 = [(x - 2500)/50 for x in drift_spots_2]"
   ]
  },
  {
   "cell_type": "code",
   "execution_count": null,
   "metadata": {},
   "outputs": [
    {
     "name": "stdout",
     "output_type": "stream",
     "text": [
      "0.5581150678432557\n"
     ]
    }
   ],
   "source": [
    "print(sum(f1_scores_4)/len(f1_scores_4))"
   ]
  },
  {
   "cell_type": "code",
   "execution_count": null,
   "metadata": {},
   "outputs": [
    {
     "name": "stdout",
     "output_type": "stream",
     "text": [
      "55\n"
     ]
    }
   ],
   "source": [
    "print(len(drift_spots_2))"
   ]
  },
  {
   "cell_type": "code",
   "execution_count": null,
   "metadata": {},
   "outputs": [
    {
     "data": {
      "image/png": "[encoded data removed]",
      "text/plain": [
       "<Figure size 2500x300 with 1 Axes>"
      ]
     },
     "metadata": {},
     "output_type": "display_data"
    }
   ],
   "source": [
    "f1_array_4 = np.array(f1_scores_4)\n",
    "xs = [x for x in range(len(f1_scores_4))]\n",
    "plt.rcParams['figure.figsize'] = [25,3]\n",
    "for i in cleaned_spots_2:\n",
    "    plt.axvline(x=i)\n",
    "plt.scatter(xs, f1_array_4)\n",
    "plt.title(\"Logisitc Regression and Drift Detection, F1: 50, Retrain: 2500\")\n",
    "plt.show()"
   ]
  },
  {
   "cell_type": "markdown",
   "metadata": {},
   "source": [
    "Retraining Model on most recent subset of data since last drift spot, if the subset is too small use the pretrain size\n",
    "(use max of recent subset or pretrain size)\n",
    "\n",
    "First need to find a way for the model to detect drift less often, so that it uses the subsets more often and uses outdated data less often"
   ]
  },
  {
   "cell_type": "code",
   "execution_count": null,
   "metadata": {},
   "outputs": [
    {
     "name": "stdout",
     "output_type": "stream",
     "text": [
      "9255\n",
      "10087\n",
      "12135\n",
      "15719\n",
      "18695\n",
      "19463\n",
      "26375\n",
      "27911\n",
      "36167\n",
      "38311\n"
     ]
    }
   ],
   "source": [
    "X = data[['nswprice', 'nswdemand', 'vicprice', 'vicdemand']].values\n",
    "y = data['class'].values\n",
    "X_train, X_test, y_train, y_test = X[:5000], X[5000:], y[:5000], y[5000:]\n",
    "\n",
    "logreg = LogisticRegression()\n",
    "adwin = ADWIN()\n",
    "\n",
    "f1_scores_5 = []\n",
    "drift_spots_3 = []\n",
    "\n",
    "for i, (x, y_true) in enumerate(zip(X_test, y_test)):\n",
    "    if i < 5000:\n",
    "        if X_train.shape[0] > 0:\n",
    "            logreg.fit(X_train, y_train)\n",
    "\n",
    "    else:\n",
    "        y_pred = logreg.predict(x.reshape(1, -1))[0]\n",
    "        adwin.update(int(y_pred == y_true))\n",
    "\n",
    "        if i % 50 == 0:\n",
    "            y_pred_history = logreg.predict(X_test[:i+1]).reshape(-1, 1)\n",
    "            f1_scores_5.append(f1_score(y_test[:i+1], y_pred_history))\n",
    "\n",
    "        if adwin.drift_detected:\n",
    "            logreg = LogisticRegression()\n",
    "            #print(i - drift_spots_3[-1]) \n",
    "            if drift_spots_3 and (i - drift_spots_3[-1]) > 750:  # this is where we can vary the set max for retraining, I don't think this is working\n",
    "              logreg.fit(X[drift_spots_3[-1]:i], y[drift_spots_3[-1]:i])\n",
    "              print(i)\n",
    "            else:\n",
    "              logreg.fit(X[i-5000:i], y[i-5000:i])\n",
    "            adwin = ADWIN()\n",
    "            drift_spots_3.append(i)\n",
    "\n",
    "#print(f1_scores_5)\n",
    "\n",
    "#print(drift_spots)"
   ]
  },
  {
   "cell_type": "code",
   "execution_count": null,
   "metadata": {},
   "outputs": [
    {
     "name": "stdout",
     "output_type": "stream",
     "text": [
      "0.581745981575111\n"
     ]
    }
   ],
   "source": [
    "print(sum(f1_scores_5)/len(f1_scores_5))"
   ]
  },
  {
   "cell_type": "markdown",
   "metadata": {},
   "source": [
    "using the code block above, adjust to compare the size of the last 2 or 3 subsets compared to the set size. Hopefully improved performance"
   ]
  },
  {
   "cell_type": "code",
   "execution_count": 333,
   "metadata": {},
   "outputs": [
    {
     "name": "stdout",
     "output_type": "stream",
     "text": [
      "6695\n",
      "7015\n",
      "7463\n",
      "7975\n",
      "8583\n",
      "8775\n",
      "10279\n",
      "11975\n",
      "12231\n",
      "12807\n",
      "16071\n",
      "16295\n",
      "19847\n",
      "20071\n",
      "20391\n",
      "20615\n",
      "21063\n",
      "22023\n",
      "22407\n",
      "22631\n",
      "22887\n",
      "23335\n",
      "23815\n",
      "24231\n",
      "26503\n",
      "27015\n",
      "27559\n",
      "27687\n",
      "28263\n",
      "28743\n",
      "29063\n",
      "29383\n",
      "29767\n",
      "30087\n",
      "30279\n",
      "30855\n",
      "32711\n",
      "34023\n",
      "34375\n",
      "35591\n",
      "36583\n",
      "37159\n",
      "37415\n",
      "38311\n",
      "38759\n",
      "39079\n",
      "39399\n",
      "40007\n"
     ]
    }
   ],
   "source": [
    "X = data[['nswprice', 'nswdemand', 'vicprice', 'vicdemand']].values\n",
    "y = data['class'].values\n",
    "X_train, X_test, y_train, y_test = X[:5000], X[5000:], y[:5000], y[5000:]\n",
    "\n",
    "logreg = LogisticRegression()\n",
    "adwin = ADWIN()\n",
    "\n",
    "f1_scores_6 = []\n",
    "drift_spots_4 = []\n",
    "\n",
    "for i, (x, y_true) in enumerate(zip(X_test, y_test)):\n",
    "    if i < 5000:\n",
    "        if X_train.shape[0] > 0:\n",
    "            logreg.fit(X_train, y_train)\n",
    "\n",
    "    else:\n",
    "        y_pred = logreg.predict(x.reshape(1, -1))[0]\n",
    "        adwin.update(int(y_pred == y_true))\n",
    "\n",
    "        if i % 50 == 0:\n",
    "            y_pred_history = logreg.predict(X_test[:i+1]).reshape(-1, 1)\n",
    "            f1_scores_6.append(f1_score(y_test[:i+1], y_pred_history))\n",
    "\n",
    "        if adwin.drift_detected:\n",
    "            logreg = LogisticRegression()\n",
    "            get_len = len(drift_spots_4)\n",
    "            if (get_len > 2) and (i - drift_spots_4[-2]) > 100:  # this is where we can vary the set max for retraining, I don't think this is working\n",
    "              logreg.fit(X[drift_spots_4[-2]:i], y[drift_spots_4[-2]:i])\n",
    "              print(i)\n",
    "            else:\n",
    "              logreg.fit(X[i-5000:i], y[i-5000:i])\n",
    "            adwin = ADWIN()\n",
    "            drift_spots_4.append(i)\n"
   ]
  },
  {
   "cell_type": "code",
   "execution_count": null,
   "metadata": {},
   "outputs": [
    {
     "name": "stdout",
     "output_type": "stream",
     "text": [
      "0.5541168485969291\n"
     ]
    }
   ],
   "source": [
    "print(sum(f1_scores_6)/len(f1_scores_6))"
   ]
  },
  {
   "cell_type": "code",
   "execution_count": 332,
   "metadata": {},
   "outputs": [
    {
     "ename": "ValueError",
     "evalue": "Found array with 0 sample(s) (shape=(0, 4)) while a minimum of 1 is required by LogisticRegression.",
     "output_type": "error",
     "traceback": [
      "\u001b[0;31m---------------------------------------------------------------------------\u001b[0m",
      "\u001b[0;31mValueError\u001b[0m                                Traceback (most recent call last)",
      "Cell \u001b[0;32mIn[332], line 28\u001b[0m\n\u001b[1;32m     26\u001b[0m get_len \u001b[39m=\u001b[39m \u001b[39mlen\u001b[39m(drift_spots_5)\n\u001b[1;32m     27\u001b[0m \u001b[39mif\u001b[39;00m get_len \u001b[39m>\u001b[39m \u001b[39m2\u001b[39m:\n\u001b[0;32m---> 28\u001b[0m     logreg\u001b[39m.\u001b[39;49mfit(X[drift_spots_3[\u001b[39m-\u001b[39;49m\u001b[39m1\u001b[39;49m]:i], y[drift_spots_3[\u001b[39m-\u001b[39;49m\u001b[39m1\u001b[39;49m]:i])\n\u001b[1;32m     29\u001b[0m     \u001b[39mprint\u001b[39m(i)\n\u001b[1;32m     30\u001b[0m \u001b[39melse\u001b[39;00m:\n",
      "File \u001b[0;32m~/Desktop/enter/envs/py39/lib/python3.9/site-packages/sklearn/linear_model/_logistic.py:1138\u001b[0m, in \u001b[0;36mLogisticRegression.fit\u001b[0;34m(self, X, y, sample_weight)\u001b[0m\n\u001b[1;32m   1135\u001b[0m \u001b[39melse\u001b[39;00m:\n\u001b[1;32m   1136\u001b[0m     _dtype \u001b[39m=\u001b[39m [np\u001b[39m.\u001b[39mfloat64, np\u001b[39m.\u001b[39mfloat32]\n\u001b[0;32m-> 1138\u001b[0m X, y \u001b[39m=\u001b[39m \u001b[39mself\u001b[39;49m\u001b[39m.\u001b[39;49m_validate_data(\n\u001b[1;32m   1139\u001b[0m     X,\n\u001b[1;32m   1140\u001b[0m     y,\n\u001b[1;32m   1141\u001b[0m     accept_sparse\u001b[39m=\u001b[39;49m\u001b[39m\"\u001b[39;49m\u001b[39mcsr\u001b[39;49m\u001b[39m\"\u001b[39;49m,\n\u001b[1;32m   1142\u001b[0m     dtype\u001b[39m=\u001b[39;49m_dtype,\n\u001b[1;32m   1143\u001b[0m     order\u001b[39m=\u001b[39;49m\u001b[39m\"\u001b[39;49m\u001b[39mC\u001b[39;49m\u001b[39m\"\u001b[39;49m,\n\u001b[1;32m   1144\u001b[0m     accept_large_sparse\u001b[39m=\u001b[39;49msolver \u001b[39mnot\u001b[39;49;00m \u001b[39min\u001b[39;49;00m [\u001b[39m\"\u001b[39;49m\u001b[39mliblinear\u001b[39;49m\u001b[39m\"\u001b[39;49m, \u001b[39m\"\u001b[39;49m\u001b[39msag\u001b[39;49m\u001b[39m\"\u001b[39;49m, \u001b[39m\"\u001b[39;49m\u001b[39msaga\u001b[39;49m\u001b[39m\"\u001b[39;49m],\n\u001b[1;32m   1145\u001b[0m )\n\u001b[1;32m   1146\u001b[0m check_classification_targets(y)\n\u001b[1;32m   1147\u001b[0m \u001b[39mself\u001b[39m\u001b[39m.\u001b[39mclasses_ \u001b[39m=\u001b[39m np\u001b[39m.\u001b[39munique(y)\n",
      "File \u001b[0;32m~/Desktop/enter/envs/py39/lib/python3.9/site-packages/sklearn/base.py:596\u001b[0m, in \u001b[0;36mBaseEstimator._validate_data\u001b[0;34m(self, X, y, reset, validate_separately, **check_params)\u001b[0m\n\u001b[1;32m    594\u001b[0m         y \u001b[39m=\u001b[39m check_array(y, input_name\u001b[39m=\u001b[39m\u001b[39m\"\u001b[39m\u001b[39my\u001b[39m\u001b[39m\"\u001b[39m, \u001b[39m*\u001b[39m\u001b[39m*\u001b[39mcheck_y_params)\n\u001b[1;32m    595\u001b[0m     \u001b[39melse\u001b[39;00m:\n\u001b[0;32m--> 596\u001b[0m         X, y \u001b[39m=\u001b[39m check_X_y(X, y, \u001b[39m*\u001b[39;49m\u001b[39m*\u001b[39;49mcheck_params)\n\u001b[1;32m    597\u001b[0m     out \u001b[39m=\u001b[39m X, y\n\u001b[1;32m    599\u001b[0m \u001b[39mif\u001b[39;00m \u001b[39mnot\u001b[39;00m no_val_X \u001b[39mand\u001b[39;00m check_params\u001b[39m.\u001b[39mget(\u001b[39m\"\u001b[39m\u001b[39mensure_2d\u001b[39m\u001b[39m\"\u001b[39m, \u001b[39mTrue\u001b[39;00m):\n",
      "File \u001b[0;32m~/Desktop/enter/envs/py39/lib/python3.9/site-packages/sklearn/utils/validation.py:1074\u001b[0m, in \u001b[0;36mcheck_X_y\u001b[0;34m(X, y, accept_sparse, accept_large_sparse, dtype, order, copy, force_all_finite, ensure_2d, allow_nd, multi_output, ensure_min_samples, ensure_min_features, y_numeric, estimator)\u001b[0m\n\u001b[1;32m   1069\u001b[0m         estimator_name \u001b[39m=\u001b[39m _check_estimator_name(estimator)\n\u001b[1;32m   1070\u001b[0m     \u001b[39mraise\u001b[39;00m \u001b[39mValueError\u001b[39;00m(\n\u001b[1;32m   1071\u001b[0m         \u001b[39mf\u001b[39m\u001b[39m\"\u001b[39m\u001b[39m{\u001b[39;00mestimator_name\u001b[39m}\u001b[39;00m\u001b[39m requires y to be passed, but the target y is None\u001b[39m\u001b[39m\"\u001b[39m\n\u001b[1;32m   1072\u001b[0m     )\n\u001b[0;32m-> 1074\u001b[0m X \u001b[39m=\u001b[39m check_array(\n\u001b[1;32m   1075\u001b[0m     X,\n\u001b[1;32m   1076\u001b[0m     accept_sparse\u001b[39m=\u001b[39;49maccept_sparse,\n\u001b[1;32m   1077\u001b[0m     accept_large_sparse\u001b[39m=\u001b[39;49maccept_large_sparse,\n\u001b[1;32m   1078\u001b[0m     dtype\u001b[39m=\u001b[39;49mdtype,\n\u001b[1;32m   1079\u001b[0m     order\u001b[39m=\u001b[39;49morder,\n\u001b[1;32m   1080\u001b[0m     copy\u001b[39m=\u001b[39;49mcopy,\n\u001b[1;32m   1081\u001b[0m     force_all_finite\u001b[39m=\u001b[39;49mforce_all_finite,\n\u001b[1;32m   1082\u001b[0m     ensure_2d\u001b[39m=\u001b[39;49mensure_2d,\n\u001b[1;32m   1083\u001b[0m     allow_nd\u001b[39m=\u001b[39;49mallow_nd,\n\u001b[1;32m   1084\u001b[0m     ensure_min_samples\u001b[39m=\u001b[39;49mensure_min_samples,\n\u001b[1;32m   1085\u001b[0m     ensure_min_features\u001b[39m=\u001b[39;49mensure_min_features,\n\u001b[1;32m   1086\u001b[0m     estimator\u001b[39m=\u001b[39;49mestimator,\n\u001b[1;32m   1087\u001b[0m     input_name\u001b[39m=\u001b[39;49m\u001b[39m\"\u001b[39;49m\u001b[39mX\u001b[39;49m\u001b[39m\"\u001b[39;49m,\n\u001b[1;32m   1088\u001b[0m )\n\u001b[1;32m   1090\u001b[0m y \u001b[39m=\u001b[39m _check_y(y, multi_output\u001b[39m=\u001b[39mmulti_output, y_numeric\u001b[39m=\u001b[39my_numeric, estimator\u001b[39m=\u001b[39mestimator)\n\u001b[1;32m   1092\u001b[0m check_consistent_length(X, y)\n",
      "File \u001b[0;32m~/Desktop/enter/envs/py39/lib/python3.9/site-packages/sklearn/utils/validation.py:909\u001b[0m, in \u001b[0;36mcheck_array\u001b[0;34m(array, accept_sparse, accept_large_sparse, dtype, order, copy, force_all_finite, ensure_2d, allow_nd, ensure_min_samples, ensure_min_features, estimator, input_name)\u001b[0m\n\u001b[1;32m    907\u001b[0m     n_samples \u001b[39m=\u001b[39m _num_samples(array)\n\u001b[1;32m    908\u001b[0m     \u001b[39mif\u001b[39;00m n_samples \u001b[39m<\u001b[39m ensure_min_samples:\n\u001b[0;32m--> 909\u001b[0m         \u001b[39mraise\u001b[39;00m \u001b[39mValueError\u001b[39;00m(\n\u001b[1;32m    910\u001b[0m             \u001b[39m\"\u001b[39m\u001b[39mFound array with \u001b[39m\u001b[39m%d\u001b[39;00m\u001b[39m sample(s) (shape=\u001b[39m\u001b[39m%s\u001b[39;00m\u001b[39m) while a\u001b[39m\u001b[39m\"\u001b[39m\n\u001b[1;32m    911\u001b[0m             \u001b[39m\"\u001b[39m\u001b[39m minimum of \u001b[39m\u001b[39m%d\u001b[39;00m\u001b[39m is required\u001b[39m\u001b[39m%s\u001b[39;00m\u001b[39m.\u001b[39m\u001b[39m\"\u001b[39m\n\u001b[1;32m    912\u001b[0m             \u001b[39m%\u001b[39m (n_samples, array\u001b[39m.\u001b[39mshape, ensure_min_samples, context)\n\u001b[1;32m    913\u001b[0m         )\n\u001b[1;32m    915\u001b[0m \u001b[39mif\u001b[39;00m ensure_min_features \u001b[39m>\u001b[39m \u001b[39m0\u001b[39m \u001b[39mand\u001b[39;00m array\u001b[39m.\u001b[39mndim \u001b[39m==\u001b[39m \u001b[39m2\u001b[39m:\n\u001b[1;32m    916\u001b[0m     n_features \u001b[39m=\u001b[39m array\u001b[39m.\u001b[39mshape[\u001b[39m1\u001b[39m]\n",
      "\u001b[0;31mValueError\u001b[0m: Found array with 0 sample(s) (shape=(0, 4)) while a minimum of 1 is required by LogisticRegression."
     ]
    }
   ],
   "source": [
    "X = data[['nswprice', 'nswdemand', 'vicprice', 'vicdemand']].values\n",
    "y = data['class'].values\n",
    "X_train, X_test, y_train, y_test = X[:5000], X[5000:], y[:5000], y[5000:]\n",
    "\n",
    "logreg = LogisticRegression()\n",
    "adwin = ADWIN()\n",
    "\n",
    "f1_scores_7 = []\n",
    "drift_spots_5 = []\n",
    "\n",
    "for i, (x, y_true) in enumerate(zip(X_test, y_test)):\n",
    "    if i < 5000:\n",
    "        if X_train.shape[0] > 0:\n",
    "            logreg.fit(X_train, y_train)\n",
    "\n",
    "    else:\n",
    "        y_pred = logreg.predict(x.reshape(1, -1))[0]\n",
    "        adwin.update(int(y_pred == y_true))\n",
    "\n",
    "        if i % 50 == 0:\n",
    "            y_pred_history = logreg.predict(X_test[:i+1]).reshape(-1, 1)\n",
    "            f1_scores_7.append(f1_score(y_test[:i+1], y_pred_history))\n",
    "\n",
    "        if adwin.drift_detected:\n",
    "            logreg = LogisticRegression()\n",
    "            get_len = len(drift_spots_5)\n",
    "            if get_len > 2:\n",
    "                logreg.fit(X[drift_spots_3[-1]:i], y[drift_spots_3[-1]:i])\n",
    "                print(i)\n",
    "            else:\n",
    "                logreg.fit(X[i-5000:i], y[i-5000:i])\n",
    "            adwin = ADWIN()\n",
    "            drift_spots_5.append(i)\n"
   ]
  },
  {
   "cell_type": "code",
   "execution_count": null,
   "metadata": {},
   "outputs": [],
   "source": []
  }
 ],
 "metadata": {
  "kernelspec": {
   "display_name": "Python 3.9.0 ('py39')",
   "language": "python",
   "name": "python3"
  },
  "language_info": {
   "codemirror_mode": {
    "name": "ipython",
    "version": 3
   },
   "file_extension": ".py",
   "mimetype": "text/x-python",
   "name": "python",
   "nbconvert_exporter": "python",
   "pygments_lexer": "ipython3",
   "version": "3.9.0"
  },
  "orig_nbformat": 4,
  "vscode": {
   "interpreter": {
    "hash": "8165915566f7f6d69c3741d69b581d20ba675ab1ec3d7c677c0609c575407d08"
   }
  }
 },
 "nbformat": 4,
 "nbformat_minor": 2
}
