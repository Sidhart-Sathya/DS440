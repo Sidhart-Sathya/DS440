{
 "cells": [
  {
   "cell_type": "code",
   "execution_count": 26,
   "id": "87aabb68",
   "metadata": {
    "execution": {
     "iopub.execute_input": "2021-09-24T07:08:01.044442Z",
     "iopub.status.busy": "2021-09-24T07:08:01.043757Z",
     "iopub.status.idle": "2021-09-24T07:08:03.373831Z",
     "shell.execute_reply": "2021-09-24T07:08:03.373064Z",
     "shell.execute_reply.started": "2021-09-24T07:05:23.114685Z"
    },
    "papermill": {
     "duration": 2.353427,
     "end_time": "2021-09-24T07:08:03.373982",
     "exception": false,
     "start_time": "2021-09-24T07:08:01.020555",
     "status": "completed"
    },
    "tags": []
   },
   "outputs": [],
   "source": [
    "import numpy as np # linear algebra\n",
    "import pandas as pd # data processing, CSV file I/O (e.g. pd.read_csv)\n",
    "\n",
    "from sklearn.linear_model import LogisticRegression\n",
    "from sklearn.datasets import make_classification\n",
    "from sklearn.model_selection import train_test_split\n",
    "from sklearn.metrics import f1_score\n",
    "\n",
    "import seaborn as sns\n",
    "import matplotlib.pyplot as plt\n",
    "plt.rcParams.update({'font.size': 14})\n",
    "\n",
    "import re\n",
    "\n",
    "import plotly.express as px\n",
    "import plotly.graph_objects as go\n",
    "from plotly.subplots import make_subplots\n",
    "\n",
    "import warnings\n",
    "warnings.filterwarnings(\"ignore\")\n",
    "\n",
    "#from skmultiflow.drift_detection.adwin import ADWIN\n",
    "\n",
    "from matplotlib import gridspec\n",
    "\n",
    "from river import drift\n",
    "from river import metrics\n",
    "from river.drift import ADWIN\n",
    "\n",
    "from xgboost import XGBClassifier"
   ]
  },
  {
   "cell_type": "code",
   "execution_count": 27,
   "id": "d11a5d2a",
   "metadata": {
    "execution": {
     "iopub.execute_input": "2021-09-24T07:08:03.413547Z",
     "iopub.status.busy": "2021-09-24T07:08:03.412756Z",
     "iopub.status.idle": "2021-09-24T07:08:03.526337Z",
     "shell.execute_reply": "2021-09-24T07:08:03.525743Z",
     "shell.execute_reply.started": "2021-09-24T07:05:25.771947Z"
    },
    "papermill": {
     "duration": 0.135341,
     "end_time": "2021-09-24T07:08:03.526489",
     "exception": false,
     "start_time": "2021-09-24T07:08:03.391148",
     "status": "completed"
    },
    "tags": []
   },
   "outputs": [
    {
     "data": {
      "text/html": [
       "<div>\n",
       "<style scoped>\n",
       "    .dataframe tbody tr th:only-of-type {\n",
       "        vertical-align: middle;\n",
       "    }\n",
       "\n",
       "    .dataframe tbody tr th {\n",
       "        vertical-align: top;\n",
       "    }\n",
       "\n",
       "    .dataframe thead th {\n",
       "        text-align: right;\n",
       "    }\n",
       "</style>\n",
       "<table border=\"1\" class=\"dataframe\">\n",
       "  <thead>\n",
       "    <tr style=\"text-align: right;\">\n",
       "      <th></th>\n",
       "      <th>date</th>\n",
       "      <th>day</th>\n",
       "      <th>period</th>\n",
       "      <th>nswprice</th>\n",
       "      <th>nswdemand</th>\n",
       "      <th>vicprice</th>\n",
       "      <th>vicdemand</th>\n",
       "      <th>transfer</th>\n",
       "      <th>class</th>\n",
       "    </tr>\n",
       "  </thead>\n",
       "  <tbody>\n",
       "    <tr>\n",
       "      <th>0</th>\n",
       "      <td>0.0</td>\n",
       "      <td>b'2'</td>\n",
       "      <td>0.000000</td>\n",
       "      <td>0.056443</td>\n",
       "      <td>0.439155</td>\n",
       "      <td>0.003467</td>\n",
       "      <td>0.422915</td>\n",
       "      <td>0.414912</td>\n",
       "      <td>1</td>\n",
       "    </tr>\n",
       "    <tr>\n",
       "      <th>1</th>\n",
       "      <td>0.0</td>\n",
       "      <td>b'2'</td>\n",
       "      <td>0.021277</td>\n",
       "      <td>0.051699</td>\n",
       "      <td>0.415055</td>\n",
       "      <td>0.003467</td>\n",
       "      <td>0.422915</td>\n",
       "      <td>0.414912</td>\n",
       "      <td>1</td>\n",
       "    </tr>\n",
       "    <tr>\n",
       "      <th>2</th>\n",
       "      <td>0.0</td>\n",
       "      <td>b'2'</td>\n",
       "      <td>0.042553</td>\n",
       "      <td>0.051489</td>\n",
       "      <td>0.385004</td>\n",
       "      <td>0.003467</td>\n",
       "      <td>0.422915</td>\n",
       "      <td>0.414912</td>\n",
       "      <td>1</td>\n",
       "    </tr>\n",
       "    <tr>\n",
       "      <th>3</th>\n",
       "      <td>0.0</td>\n",
       "      <td>b'2'</td>\n",
       "      <td>0.063830</td>\n",
       "      <td>0.045485</td>\n",
       "      <td>0.314639</td>\n",
       "      <td>0.003467</td>\n",
       "      <td>0.422915</td>\n",
       "      <td>0.414912</td>\n",
       "      <td>1</td>\n",
       "    </tr>\n",
       "    <tr>\n",
       "      <th>4</th>\n",
       "      <td>0.0</td>\n",
       "      <td>b'2'</td>\n",
       "      <td>0.085106</td>\n",
       "      <td>0.042482</td>\n",
       "      <td>0.251116</td>\n",
       "      <td>0.003467</td>\n",
       "      <td>0.422915</td>\n",
       "      <td>0.414912</td>\n",
       "      <td>0</td>\n",
       "    </tr>\n",
       "  </tbody>\n",
       "</table>\n",
       "</div>"
      ],
      "text/plain": [
       "   date   day    period  nswprice  nswdemand  vicprice  vicdemand  transfer  \\\n",
       "0   0.0  b'2'  0.000000  0.056443   0.439155  0.003467   0.422915  0.414912   \n",
       "1   0.0  b'2'  0.021277  0.051699   0.415055  0.003467   0.422915  0.414912   \n",
       "2   0.0  b'2'  0.042553  0.051489   0.385004  0.003467   0.422915  0.414912   \n",
       "3   0.0  b'2'  0.063830  0.045485   0.314639  0.003467   0.422915  0.414912   \n",
       "4   0.0  b'2'  0.085106  0.042482   0.251116  0.003467   0.422915  0.414912   \n",
       "\n",
       "   class  \n",
       "0      1  \n",
       "1      1  \n",
       "2      1  \n",
       "3      1  \n",
       "4      0  "
      ]
     },
     "execution_count": 27,
     "metadata": {},
     "output_type": "execute_result"
    }
   ],
   "source": [
    "data = pd.read_csv(r\"C:\\Users\\sidaj\\OneDrive\\Desktop\\DS440\\electricity.csv\")\n",
    "data['class'] = data['class'].astype(pd.StringDtype())\n",
    "data['class'] = data['class'].str.replace(\"b'UP'\", '1')\n",
    "data['class'] = data['class'].str.replace(\"b'DOWN'\", '0')\n",
    "data['class'] = data['class'].astype(int)\n",
    "data.head()"
   ]
  },
  {
   "cell_type": "code",
   "execution_count": 28,
   "id": "edc33a4a",
   "metadata": {
    "execution": {
     "iopub.execute_input": "2021-09-24T07:08:03.568917Z",
     "iopub.status.busy": "2021-09-24T07:08:03.568258Z",
     "iopub.status.idle": "2021-09-24T07:08:03.584777Z",
     "shell.execute_reply": "2021-09-24T07:08:03.584162Z",
     "shell.execute_reply.started": "2021-09-24T07:05:25.899957Z"
    },
    "papermill": {
     "duration": 0.041345,
     "end_time": "2021-09-24T07:08:03.584910",
     "exception": false,
     "start_time": "2021-09-24T07:08:03.543565",
     "status": "completed"
    },
    "tags": []
   },
   "outputs": [
    {
     "data": {
      "text/plain": [
       "(45312, 9)"
      ]
     },
     "execution_count": 28,
     "metadata": {},
     "output_type": "execute_result"
    }
   ],
   "source": [
    "data.shape"
   ]
  },
  {
   "cell_type": "code",
   "execution_count": 29,
   "id": "6809e033",
   "metadata": {
    "papermill": {
     "duration": 0.016885,
     "end_time": "2021-09-24T07:08:03.619375",
     "exception": false,
     "start_time": "2021-09-24T07:08:03.602490",
     "status": "completed"
    },
    "tags": []
   },
   "outputs": [
    {
     "data": {
      "text/html": [
       "<div>\n",
       "<style scoped>\n",
       "    .dataframe tbody tr th:only-of-type {\n",
       "        vertical-align: middle;\n",
       "    }\n",
       "\n",
       "    .dataframe tbody tr th {\n",
       "        vertical-align: top;\n",
       "    }\n",
       "\n",
       "    .dataframe thead th {\n",
       "        text-align: right;\n",
       "    }\n",
       "</style>\n",
       "<table border=\"1\" class=\"dataframe\">\n",
       "  <thead>\n",
       "    <tr style=\"text-align: right;\">\n",
       "      <th></th>\n",
       "      <th>date</th>\n",
       "      <th>day</th>\n",
       "      <th>period</th>\n",
       "      <th>nswprice</th>\n",
       "      <th>nswdemand</th>\n",
       "      <th>vicprice</th>\n",
       "      <th>vicdemand</th>\n",
       "      <th>transfer</th>\n",
       "      <th>class</th>\n",
       "    </tr>\n",
       "  </thead>\n",
       "  <tbody>\n",
       "    <tr>\n",
       "      <th>0</th>\n",
       "      <td>0.0</td>\n",
       "      <td>b'2'</td>\n",
       "      <td>0.000000</td>\n",
       "      <td>0.056443</td>\n",
       "      <td>0.439155</td>\n",
       "      <td>0.003467</td>\n",
       "      <td>0.422915</td>\n",
       "      <td>0.414912</td>\n",
       "      <td>1</td>\n",
       "    </tr>\n",
       "    <tr>\n",
       "      <th>1</th>\n",
       "      <td>0.0</td>\n",
       "      <td>b'2'</td>\n",
       "      <td>0.021277</td>\n",
       "      <td>0.051699</td>\n",
       "      <td>0.415055</td>\n",
       "      <td>0.003467</td>\n",
       "      <td>0.422915</td>\n",
       "      <td>0.414912</td>\n",
       "      <td>1</td>\n",
       "    </tr>\n",
       "    <tr>\n",
       "      <th>2</th>\n",
       "      <td>0.0</td>\n",
       "      <td>b'2'</td>\n",
       "      <td>0.042553</td>\n",
       "      <td>0.051489</td>\n",
       "      <td>0.385004</td>\n",
       "      <td>0.003467</td>\n",
       "      <td>0.422915</td>\n",
       "      <td>0.414912</td>\n",
       "      <td>1</td>\n",
       "    </tr>\n",
       "    <tr>\n",
       "      <th>3</th>\n",
       "      <td>0.0</td>\n",
       "      <td>b'2'</td>\n",
       "      <td>0.063830</td>\n",
       "      <td>0.045485</td>\n",
       "      <td>0.314639</td>\n",
       "      <td>0.003467</td>\n",
       "      <td>0.422915</td>\n",
       "      <td>0.414912</td>\n",
       "      <td>1</td>\n",
       "    </tr>\n",
       "    <tr>\n",
       "      <th>4</th>\n",
       "      <td>0.0</td>\n",
       "      <td>b'2'</td>\n",
       "      <td>0.085106</td>\n",
       "      <td>0.042482</td>\n",
       "      <td>0.251116</td>\n",
       "      <td>0.003467</td>\n",
       "      <td>0.422915</td>\n",
       "      <td>0.414912</td>\n",
       "      <td>0</td>\n",
       "    </tr>\n",
       "  </tbody>\n",
       "</table>\n",
       "</div>"
      ],
      "text/plain": [
       "   date   day    period  nswprice  nswdemand  vicprice  vicdemand  transfer  \\\n",
       "0   0.0  b'2'  0.000000  0.056443   0.439155  0.003467   0.422915  0.414912   \n",
       "1   0.0  b'2'  0.021277  0.051699   0.415055  0.003467   0.422915  0.414912   \n",
       "2   0.0  b'2'  0.042553  0.051489   0.385004  0.003467   0.422915  0.414912   \n",
       "3   0.0  b'2'  0.063830  0.045485   0.314639  0.003467   0.422915  0.414912   \n",
       "4   0.0  b'2'  0.085106  0.042482   0.251116  0.003467   0.422915  0.414912   \n",
       "\n",
       "   class  \n",
       "0      1  \n",
       "1      1  \n",
       "2      1  \n",
       "3      1  \n",
       "4      0  "
      ]
     },
     "execution_count": 29,
     "metadata": {},
     "output_type": "execute_result"
    }
   ],
   "source": [
    "original_train = data.head(5000) # using 5000 rows for orginal training of model\n",
    "test_data = data.tail(45312) # rest of the data will be the \"new\" incoming data we test on\n",
    "original_train.head()"
   ]
  },
  {
   "cell_type": "code",
   "execution_count": 30,
   "id": "f68580c6",
   "metadata": {},
   "outputs": [],
   "source": [
    "#X = data[['nswprice', 'nswdemand', 'vicprice', 'vicdemand']].values\n",
    "#y = data['class'].values\n",
    "#X_train, X_test, y_train, y_test = X[:5000], X[5000:], y[:5000], y[5000:]\n",
    "\n",
    "\n",
    "#xgbclass = XGBClassifier()\n",
    "#adwin = ADWIN()\n",
    "\n",
    "#f1_scores = []\n",
    "#drift_spots = []\n",
    "\n",
    "#for i, (x, y_true) in enumerate(zip(X_test, y_test)):\n",
    "#    if i < 5000:\n",
    "#        if X_train.shape[0] > 0:\n",
    "#            xgbclass.fit(X_train, y_train)\n",
    "\n",
    "#    else:\n",
    "#        y_pred = xgbclass.predict(x.reshape(1, -1))[0]\n",
    "#        adwin.update(int(y_pred == y_true))\n",
    "\n",
    "#        if i % 50 == 0:\n",
    "#            y_pred_history = xgbclass.predict(X_test[:i+1]).reshape(-1, 1)\n",
    "#            f1_scores.append(f1_score(y_test[:i+1], y_pred_history))\n",
    "\n",
    "#        if adwin.drift_detected:\n",
    "#            drift_spots.append(i)\n",
    "#            xgbclass = XGBClassifier()\n",
    "#            xgbclass.fit(X[i-5000:i], y[i-5000:i])\n",
    "#            adwin = ADWIN()\n",
    "\n"
   ]
  },
  {
   "cell_type": "code",
   "execution_count": 31,
   "id": "f668e054",
   "metadata": {},
   "outputs": [],
   "source": [
    "from sklearn.metrics import f1_score as sk_f1_score\n",
    "\n",
    "X = data[['nswprice', 'nswdemand', 'vicprice', 'vicdemand']].values\n",
    "y = data['class'].values\n",
    "X_train, X_test, y_train, y_test = X[:5000], X[5000:], y[:5000], y[5000:]\n",
    "\n",
    "xgb = XGBClassifier()\n",
    "adwin = ADWIN(delta=0.002)\n",
    "\n",
    "def f1_score(y_true, y_pred):\n",
    "    return sk_f1_score(y_true, y_pred, average='macro')\n",
    "\n",
    "f1_scores = []\n",
    "drift_spots = []\n",
    "\n",
    "for i, (x, y_true) in enumerate(zip(X_test, y_test)):\n",
    "    if i < 5000:\n",
    "        if i % 50 == 0:\n",
    "            if X_train.shape[0] > 0:\n",
    "                xgb.fit(X_train, y_train)\n",
    "            \n",
    "    else:\n",
    "        y_pred = xgb.predict(x.reshape(1, -1))[0]\n",
    "        adwin.update(int(y_pred == y_true))\n",
    "\n",
    "        if i % 50 == 0:\n",
    "            y_pred_history = xgb.predict(X_test[:i+1]).reshape(-1, 1)\n",
    "            f1_scores.append(f1_score(y_test[:i+1], y_pred_history))\n",
    "\n",
    "        if adwin.drift_detected:\n",
    "            drift_spots.append(i)\n",
    "            xgb = XGBClassifier()\n",
    "            xgb.fit(X[i-5000:i], y[i-5000:i])\n",
    "            adwin = ADWIN()"
   ]
  },
  {
   "cell_type": "code",
   "execution_count": 32,
   "id": "bbe64245",
   "metadata": {
    "execution": {
     "iopub.execute_input": "2021-09-24T07:08:03.667756Z",
     "iopub.status.busy": "2021-09-24T07:08:03.666916Z",
     "iopub.status.idle": "2021-09-24T07:08:03.697492Z",
     "shell.execute_reply": "2021-09-24T07:08:03.696809Z",
     "shell.execute_reply.started": "2021-09-24T07:05:25.927646Z"
    },
    "papermill": {
     "duration": 0.06071,
     "end_time": "2021-09-24T07:08:03.697670",
     "exception": false,
     "start_time": "2021-09-24T07:08:03.636960",
     "status": "completed"
    },
    "tags": []
   },
   "outputs": [
    {
     "name": "stdout",
     "output_type": "stream",
     "text": [
      "50\n"
     ]
    }
   ],
   "source": [
    "#print(f1_scores)\n",
    "print(len(drift_spots))"
   ]
  },
  {
   "cell_type": "code",
   "execution_count": 33,
   "id": "9d8a6aed",
   "metadata": {
    "execution": {
     "iopub.execute_input": "2021-09-24T07:08:03.736877Z",
     "iopub.status.busy": "2021-09-24T07:08:03.736149Z",
     "iopub.status.idle": "2021-09-24T07:08:03.789379Z",
     "shell.execute_reply": "2021-09-24T07:08:03.788835Z",
     "shell.execute_reply.started": "2021-09-24T07:05:25.971595Z"
    },
    "papermill": {
     "duration": 0.073944,
     "end_time": "2021-09-24T07:08:03.789529",
     "exception": false,
     "start_time": "2021-09-24T07:08:03.715585",
     "status": "completed"
    },
    "tags": []
   },
   "outputs": [
    {
     "name": "stdout",
     "output_type": "stream",
     "text": [
      "[5191, 6663, 7623, 9127, 10087, 10695, 11207, 12039, 12199, 12455, 13991, 14183, 14759, 14919, 15143, 15367, 15559, 16039, 16647, 17511, 17639, 18279, 18535, 18727, 18951, 19143, 19783, 20199, 21031, 21479, 22023, 23111, 23815, 24615, 24903, 27015, 27495, 29799, 30951, 31335, 31719, 32615, 33319, 34535, 35303, 36039, 36967, 38791, 39271, 40007]\n"
     ]
    }
   ],
   "source": [
    "drift_diff = [x - drift_spots[i - 1] for i, x in enumerate(drift_spots)][1:]\n",
    "print(drift_spots)"
   ]
  },
  {
   "cell_type": "code",
   "execution_count": 34,
   "id": "1d87ff53",
   "metadata": {
    "execution": {
     "iopub.execute_input": "2021-09-24T07:08:14.522270Z",
     "iopub.status.busy": "2021-09-24T07:08:14.521181Z",
     "iopub.status.idle": "2021-09-24T07:08:14.990714Z",
     "shell.execute_reply": "2021-09-24T07:08:14.990022Z",
     "shell.execute_reply.started": "2021-09-24T07:05:37.268093Z"
    },
    "papermill": {
     "duration": 0.497431,
     "end_time": "2021-09-24T07:08:14.990870",
     "exception": false,
     "start_time": "2021-09-24T07:08:14.493439",
     "status": "completed"
    },
    "tags": []
   },
   "outputs": [],
   "source": [
    "cleaned_spots = [(x - 5000)/50 for x in drift_spots]"
   ]
  },
  {
   "cell_type": "code",
   "execution_count": 35,
   "id": "580e4401",
   "metadata": {
    "execution": {
     "iopub.execute_input": "2021-09-24T07:08:15.040530Z",
     "iopub.status.busy": "2021-09-24T07:08:15.039840Z",
     "iopub.status.idle": "2021-09-24T07:08:15.042766Z",
     "shell.execute_reply": "2021-09-24T07:08:15.042104Z",
     "shell.execute_reply.started": "2021-09-24T07:05:37.808835Z"
    },
    "papermill": {
     "duration": 0.029965,
     "end_time": "2021-09-24T07:08:15.042923",
     "exception": false,
     "start_time": "2021-09-24T07:08:15.012958",
     "status": "completed"
    },
    "tags": []
   },
   "outputs": [
    {
     "data": {
      "image/png": "[encoded data removed]",
      "text/plain": [
       "<Figure size 1800x216 with 1 Axes>"
      ]
     },
     "metadata": {
      "needs_background": "light"
     },
     "output_type": "display_data"
    }
   ],
   "source": [
    "#fig = plt.figure(figsize=(9,3), tight_layout=True)\n",
    "f1_array = np.array(f1_scores)\n",
    "xs = [x for x in range(len(f1_scores))]\n",
    "plt.rcParams['figure.figsize'] = [25,3]\n",
    "for i in cleaned_spots:\n",
    "    plt.axvline(x=i)\n",
    "plt.scatter(xs, f1_array)\n",
    "plt.title(\"XGBoost and Drift Detection, F1: 50, Retrain: 5000\")\n",
    "plt.show()"
   ]
  },
  {
   "cell_type": "code",
   "execution_count": 36,
   "id": "15299439",
   "metadata": {
    "execution": {
     "iopub.execute_input": "2021-09-24T07:08:15.096498Z",
     "iopub.status.busy": "2021-09-24T07:08:15.095791Z",
     "iopub.status.idle": "2021-09-24T07:08:20.358275Z",
     "shell.execute_reply": "2021-09-24T07:08:20.357571Z",
     "shell.execute_reply.started": "2021-09-24T07:05:37.819190Z"
    },
    "papermill": {
     "duration": 5.293135,
     "end_time": "2021-09-24T07:08:20.358444",
     "exception": false,
     "start_time": "2021-09-24T07:08:15.065309",
     "status": "completed"
    },
    "tags": []
   },
   "outputs": [
    {
     "name": "stdout",
     "output_type": "stream",
     "text": [
      "average f1 score: 0.7298318028532049\n"
     ]
    }
   ],
   "source": [
    "print(\"average f1 score: \" + str(sum(f1_scores)/len(f1_scores)))"
   ]
  },
  {
   "cell_type": "code",
   "execution_count": 37,
   "id": "cbc54a3e",
   "metadata": {
    "execution": {
     "iopub.execute_input": "2021-09-24T07:09:04.321783Z",
     "iopub.status.busy": "2021-09-24T07:09:04.321034Z",
     "iopub.status.idle": "2021-09-24T07:09:04.323985Z",
     "shell.execute_reply": "2021-09-24T07:09:04.323513Z",
     "shell.execute_reply.started": "2021-09-24T07:06:29.738806Z"
    },
    "papermill": {
     "duration": 0.039341,
     "end_time": "2021-09-24T07:09:04.324131",
     "exception": false,
     "start_time": "2021-09-24T07:09:04.284790",
     "status": "completed"
    },
    "tags": []
   },
   "outputs": [
    {
     "name": "stdout",
     "output_type": "stream",
     "text": [
      "[0.7159792860059329, 0.7128363577661613, 0.7146363241109112, 0.7155958753903908, 0.7168467054254302, 0.7174826675724888, 0.7176758563951109, 0.7144718432651141, 0.7125350919302658, 0.7125894688265182, 0.7125587199218564, 0.7139541492989768, 0.7142180497714059, 0.7125837230803312, 0.710983142483481, 0.7100648343248283, 0.7093817037879873, 0.7090497719126392, 0.7092928586837476, 0.7090200489657055, 0.7075363204564438, 0.705436415346276, 0.705648586732202, 0.7041304039551126, 0.7019750786933268, 0.7026793187478189, 0.6997041299806213, 0.6977387178345138, 0.6970873090801231, 0.6951516891471312, 0.6942394243007188, 0.6924449333842595, 0.690490216895923, 0.6882914571948833, 0.6852398538884567, 0.6851390848664878, 0.685538025513059, 0.6866365806105477, 0.6840000586829154, 0.6850047188221202, 0.6845386262618992, 0.6829480681424269, 0.6844831533147699, 0.6853316791839782, 0.6843926163790335, 0.6849056574801456, 0.6844134006508695, 0.6833723490844299, 0.6826956447801913, 0.6831594994699313, 0.6827560244808224, 0.6822409423252203, 0.680342922899885, 0.6806717356542139, 0.6796074476460814, 0.6794162312484829, 0.6798444878260332, 0.6811056219928397, 0.682614852687984, 0.6834483471451629, 0.6834066280683907, 0.6833036882590799, 0.6839985599041245, 0.685127280081294, 0.6859259378226172, 0.6865951955796479, 0.6864105841800896, 0.6868628325802235, 0.6870487960176338, 0.6867976918677319, 0.68627334083557, 0.6873068296210334, 0.6883566915553836, 0.689820268773468, 0.6894663078095585, 0.6894371644398787, 0.6905485696282188, 0.6909577532698912, 0.6911109571864417, 0.6918029460129016, 0.6920326608801304, 0.6922759911054968, 0.6927278458201801, 0.6913980258994991, 0.6919537451799527, 0.6914298071586877, 0.6923483992136797, 0.6925207721896691, 0.6924423288472312, 0.6930522440928601, 0.6934356252997051, 0.6940792158241205, 0.6944063316706024, 0.6949996841318702, 0.6953956116950362, 0.6945515536594546, 0.6946646041053992, 0.6948607700800886, 0.6941012024799191, 0.6930570740393533, 0.6925199389924102, 0.6916733638425853, 0.6903936292847825, 0.6902200780584267, 0.6907689919684097, 0.6905366660628947, 0.6910351187889875, 0.6917744003050885, 0.6912754418853777, 0.691191679224655, 0.6904485478202527, 0.6908325144997041, 0.6897339101546649, 0.689896583811785, 0.6884609779177145, 0.6878864680158681, 0.6865592350134562, 0.6865456664530001, 0.685461442147336, 0.6853292171376335, 0.684593184709819, 0.6849438337216484, 0.6840315597568116, 0.6844121453869803, 0.6842766615849458, 0.6842643742846565, 0.6841419137500311, 0.684566662058155, 0.6838224750889956, 0.683991504441737, 0.6843816291747822, 0.6836916338572958, 0.6830659201626377, 0.6834864154952462, 0.6840141114377534, 0.6838905560468276, 0.6837143396955838, 0.6840335174252523, 0.6836491458836798, 0.6835935068955632, 0.6839298207700776, 0.6834032523920244, 0.6832778762536862, 0.6826910546018098, 0.6833579198183424, 0.683141528703359, 0.6833818966256102, 0.6835186292228186, 0.683316319615191, 0.6828421383340761, 0.6827240324381085, 0.6833269371800281, 0.6837267840528445, 0.6844149174492806, 0.6843571565072752, 0.6848663691049919, 0.6853178212528229, 0.6861561385990373, 0.6866468314957296, 0.687121518630326, 0.687362630492015, 0.6876996522208051, 0.6870514441928659, 0.6868238626357003, 0.6863639237354315, 0.6865292281428768, 0.6865843846850621, 0.6864535355554039, 0.6864932750807294, 0.6870548048374252, 0.6876498781010691, 0.6879684240903216, 0.6886778518189054, 0.6891899835904499, 0.6891811861536368, 0.6900105413454167, 0.6906196169118262, 0.6911810778076485, 0.6918721504375736, 0.6928003868951398, 0.6929523936052064, 0.6920435818602095, 0.6904812648572219, 0.6889294121060001, 0.6882522820779353, 0.6885597255082645, 0.6892387957374732, 0.6891616513378815, 0.6887594266440648, 0.688358502312285, 0.6873983461731499, 0.6880391200815053, 0.6881188587092506, 0.6880800167523462, 0.6875372784382177, 0.6873810704139529, 0.6861633410484153, 0.6850848491342469, 0.6850322194496933, 0.6848083564087627, 0.6852760993622022, 0.6848182520637097, 0.6834938025387878, 0.6819344268693743, 0.6806412506472161, 0.6792958414910079, 0.6793257232586889, 0.6793963035782102, 0.6795405087043656, 0.6801407351489692, 0.6789760544986746, 0.6774647519202976, 0.677781552728906, 0.6769982598850653, 0.6770943424761431, 0.6770552775576824, 0.6771298735587146, 0.6757202450325244, 0.6756384918134732, 0.6752852850313518, 0.6751919620081159, 0.6756868470707571, 0.675924654157017, 0.6764129522210349, 0.6768822094180217, 0.6773796009726547, 0.677659077385852, 0.6780399200417034, 0.6782188222873914, 0.6785212662252065, 0.6787879401174166, 0.6784475907181442, 0.6780531024124341, 0.677512574596799, 0.677914302494129, 0.677949884609387, 0.6783824730375618, 0.6783269860031085, 0.6785271308679497, 0.6788732234805785, 0.6790069696126511, 0.6785749087518709, 0.6791131270795814, 0.6795793474325671, 0.6792671452499336, 0.6794970553970074, 0.6792214184752783, 0.6791718613239035, 0.6788807301191363, 0.679160394367525, 0.6786117263301054, 0.6769007035440635, 0.6764112879721781, 0.6761785558443505, 0.6759457153955644, 0.6756620952144401, 0.6749746418959941, 0.67373646498737, 0.6732246866576264, 0.6723974231249594, 0.6721719789885093, 0.6715987574877534, 0.6711267174982611, 0.6713963338039286, 0.6699412899338735, 0.6698621560804299, 0.6703567221884139, 0.6708525478856278, 0.6709196933537676, 0.6707911293503546, 0.6705170017645339, 0.6694307644465607, 0.669124517363555, 0.6688910798610577, 0.6694889462236592, 0.6700819105026584, 0.6702364793124951, 0.6699629225401784, 0.6689822979054596, 0.667818491143633, 0.6668663853979868, 0.6670749026970293, 0.667871894113744, 0.6683682355842294, 0.668239616136308, 0.6680268044235316, 0.6684200354479644, 0.6688581001485316, 0.669132287774729, 0.6693676035750342, 0.6688246993157948, 0.6681018570180106, 0.6682888594982526, 0.6679761844247487, 0.667348574481427, 0.6668366864588042, 0.6672376856168696, 0.6671068785852389, 0.6664291772328199, 0.6672155967303589, 0.6674127676294521, 0.6674840287749623, 0.6676121550047717, 0.6677462729626465, 0.6666489541833079, 0.6660058651991562, 0.6660653348886287, 0.666491092042734, 0.6666465764374292, 0.6665045807725885, 0.6659556335233826, 0.6661486288238796, 0.6653924521098015, 0.665649569892607, 0.6654430442488743, 0.665869624639856, 0.6664350636104784, 0.6661799220141238, 0.6653316848577907, 0.665067304246167, 0.6653335520236009, 0.6652377330468564, 0.6651848088789919, 0.665644370791058, 0.6650159877115338, 0.6648058895546478, 0.6648862243375726, 0.6642983966060761, 0.6640018093995509, 0.663299189455014, 0.6630916570012848, 0.6628842019814272, 0.6627017537495323, 0.6630923204684916, 0.663280075941789, 0.6626377427283903, 0.6626230913522269, 0.6628798293892493, 0.6624617951241056, 0.6622061692230615, 0.6617332017227795, 0.6611858653103369, 0.6606094180588173, 0.6603880787928995, 0.6595547183670339, 0.6590867412930388, 0.6595877505618488, 0.6598530548748613, 0.6595967602610873, 0.6599675681954178, 0.6598097997118939, 0.6593401954429758, 0.6586753095109852, 0.6585509810454089, 0.658936770243693, 0.6581036314522111, 0.658077900734048, 0.6575770673998425, 0.6573458216499803, 0.6573821170063541, 0.6574173594418173, 0.6569956002153827, 0.6569151269425688, 0.6567026070589983, 0.6563210953268144, 0.6561287010792034, 0.6560489695466971, 0.6555567467946404, 0.6554772623500271, 0.655434573962848, 0.6550196822990566, 0.6543468962462665, 0.6541761174294093, 0.6545397858577648, 0.6540177769994366, 0.6540113683202793, 0.6530522479510756, 0.653192602981286, 0.6525300064021946, 0.6522723578620873, 0.6525986478530754, 0.6529741608614508, 0.653002091259543, 0.6524527344081836, 0.6523364387496949, 0.6515747132992675, 0.6518426284520318, 0.6516220209037735, 0.6513283740151479, 0.6508082717452484, 0.6505520543821817, 0.649942903244179, 0.6494769245407164, 0.6489420964691588, 0.6481986740988515, 0.6483041133403818, 0.6484721050962077, 0.6475813527196095, 0.647748946034381, 0.6479497764100899, 0.64742245845758, 0.647345540527362, 0.6470616517834762, 0.6468127069309054, 0.6465728101493561, 0.6466669808916821, 0.645770541099015, 0.6458986760031662, 0.6457633794257305, 0.6456865619265386, 0.6450684122063005, 0.6446885425892535, 0.6440936221811503, 0.644154445528887, 0.6441656424658898, 0.6442485763557966, 0.6443253565394145, 0.6440155583600418, 0.6441051249646743, 0.6436632675861536, 0.6429912973976315, 0.6424537086556175, 0.6421935309214579, 0.6423878119735857, 0.6421415967467703, 0.6421709336907484, 0.6422781144649503, 0.6418110400958243, 0.6412154679792146, 0.6409725311553663, 0.6411243403027895, 0.6408229514481252, 0.6398460408472371, 0.6397081652773197, 0.638897219885826, 0.6394322976775335, 0.6399263224684422, 0.6397444346942325, 0.6396068298308273, 0.6386757826677465, 0.6385550626599947, 0.6384705549225376, 0.6386263601455979, 0.6386474183533773, 0.638039658831346, 0.6376219728064537, 0.6375181293315868, 0.6366343077749, 0.6359405922201018, 0.6355287209611244, 0.6352109531287651, 0.6349248626545012, 0.6341152535964294, 0.6337700454680506, 0.633026783870207, 0.6326842375158619, 0.632434228677906, 0.6321847049255513, 0.6318748221424666, 0.6313532109464136, 0.6314683374723431, 0.6314022507644828, 0.6313358962613844, 0.6307273134556501, 0.6302109161099738, 0.6299659029023238, 0.6291731015386863, 0.6290396763915711, 0.6291246840334068, 0.6287630056729099, 0.6285215037645984, 0.6284679791651231, 0.6281380846638869, 0.6275047928752167, 0.6276899324951698, 0.6277149259020685, 0.6273876307088142, 0.6276875602042771, 0.6280032857202702, 0.6280258296258137, 0.6274659453439252, 0.626936917774616, 0.6262848378262975, 0.6262218429402018, 0.6255818367518239, 0.624742672136783, 0.6238492563735627, 0.6239068880533833, 0.6237324814338439, 0.623643861384054, 0.6237175698774635, 0.6234863208384684, 0.6230569718661798, 0.6229401964806927, 0.6229364072816042, 0.6230449781662349, 0.6228149123243194, 0.622248238086774, 0.6219636461740836, 0.6219873979835736, 0.6218989215181522, 0.6214480683025924, 0.6213878516687644, 0.6211660750202815, 0.6215701630851764, 0.622028349644707, 0.6222589352123853, 0.6226016888493703, 0.6229507602766087, 0.62304349492356, 0.6231506287460558, 0.6234104723022822, 0.6238515650917429, 0.6242684445394121, 0.6243532476545864, 0.6243683238793012, 0.6245792146274994, 0.625077192968096, 0.6256599745125453, 0.6260334119604458, 0.6262455754941707, 0.6266905857202363, 0.626998878067515, 0.6273090226975434, 0.6276510187394447, 0.6276631250353877, 0.6278421370968064, 0.6278545873142756, 0.6273576483695499, 0.627129479463834, 0.6267950158798723, 0.6264613835862227, 0.6264740736569132, 0.6262460856644133, 0.6263101405357233, 0.6260899392491256, 0.6260551160259993, 0.6259812361203436, 0.626271658704285, 0.6265771380137106, 0.626966173492013, 0.6271387062257143, 0.6274764011006512, 0.6277493383409877, 0.6280142589241244, 0.6285136731557397, 0.6287323174384603, 0.6289530837601796, 0.6293347784879098, 0.6293134739433061, 0.6296857826969283, 0.6298474467047537, 0.630269603326794, 0.6304581006119299, 0.630685998233246, 0.6311555280649475, 0.6313284380146436, 0.6316800026540169, 0.6320628957117692, 0.6322096785449984, 0.6321109192848637, 0.6321006060472614, 0.6324330062493296, 0.6329714179168315, 0.6332490724102393, 0.6335308031698133, 0.6337174944806323, 0.6340961293811939, 0.6343402926852368, 0.6343475542754078, 0.6344483658744334, 0.6346877235823918, 0.6353290550159372, 0.6353849443212436, 0.6359039805145992, 0.6359335788441531, 0.6360557708270402, 0.6364146398052706, 0.6367989717730105, 0.6372082332951217, 0.637852068657901, 0.6385172766536538, 0.6389035958706053, 0.6387622021284203, 0.6385207263195721, 0.6389358460869825, 0.6397631325658559, 0.6401567997730961, 0.6405728949834157, 0.6409302559051253, 0.6416450457908212, 0.6417694985490263, 0.6421846202447654, 0.642574208152854, 0.6430041480147008, 0.6430631914637142, 0.6436432859519945, 0.6443949367257193, 0.6449571933533484, 0.6456759899540492, 0.646267684403309, 0.6464955739813532, 0.6471788594922898, 0.6475705994814722, 0.647878814245058, 0.6480994055768933, 0.6484317213501778, 0.6489111892977315, 0.6492613838312753, 0.6494244380989121, 0.6497470853976905, 0.6501847624323508, 0.65073610638976, 0.6509182682157417, 0.6510082041370617, 0.6512427643517675, 0.6516002916297698, 0.6519445404049617, 0.652236340173147, 0.6526309420009593, 0.652846284899939, 0.6535482822624926, 0.6538097133579508, 0.654244657218133, 0.6547499561075396, 0.655293877568464, 0.6555981300317051, 0.6555773744994748, 0.6561088225890825, 0.656305460137138, 0.6563656115746126, 0.6566841004847375, 0.6569988408383892, 0.6572387846040222, 0.6576588601482096, 0.6581349170694655, 0.6583800998795641, 0.6588593649889314, 0.6591179521028966, 0.6593586209829883, 0.6591871688142035, 0.6592240081340099, 0.6596984176711631, 0.660060582229026, 0.6604617804117232, 0.6607602959297478, 0.660918744942026, 0.6608749233681528, 0.6606057173004711, 0.6610736831909205, 0.661547448847891, 0.6618883208970048, 0.6622258647548105, 0.6624040592112521, 0.6626340154552286, 0.6625928061173081, 0.6623784074185087, 0.66252242141993, 0.6629383265548582, 0.663044071565996, 0.6630731469163058, 0.6634471533547731, 0.6638898288840089, 0.664102865139274, 0.664016060169811, 0.6642927205358106, 0.6641808360052404, 0.6638982748272415, 0.6641166274533377, 0.6644482001085085, 0.6646846126553032, 0.6648532745609804, 0.6649610684842651, 0.664988643950057, 0.6646623019500598, 0.6647555657877451, 0.6646582618882658, 0.6648009917081211, 0.6648033167268894, 0.6646942746879769, 0.6647519115571492, 0.664228746113581, 0.6642919975465758, 0.6647091577326716, 0.6649214289673983, 0.6651306208986707, 0.6653001694453207, 0.6647879911308273, 0.664549263795986, 0.6646781702362323, 0.6647180501796419, 0.6647917256192564, 0.6650461900812843, 0.66520503737787, 0.6647221026762604, 0.6650690871416371, 0.665347482449455, 0.6657475454207229, 0.6659911987243499, 0.666103314825881, 0.6661146967303234, 0.6659044013154876, 0.6659788295704714, 0.6662858720993552, 0.6665481095642594, 0.6668415918699663, 0.6669218102817457]\n"
     ]
    }
   ],
   "source": [
    "from sklearn.metrics import f1_score as sk_f1_score\n",
    "\n",
    "X = data[['nswprice', 'nswdemand', 'vicprice', 'vicdemand']].values\n",
    "y = data['class'].values\n",
    "X_train, X_test, y_train, y_test = X[:5000], X[5000:], y[:5000], y[5000:]\n",
    "\n",
    "xgb = XGBClassifier()\n",
    "\n",
    "def f1_score_2(y_true, y_pred):\n",
    "    return sk_f1_score(y_true, y_pred, average='macro')\n",
    "\n",
    "f1_scores_2 = []\n",
    "drift_spots = []\n",
    "\n",
    "for i, (x, y_true) in enumerate(zip(X_test, y_test)):\n",
    "    if i < 5000:\n",
    "        if i % 50 == 0:\n",
    "            if X_train.shape[0] > 0:\n",
    "                xgb.fit(X_train, y_train)\n",
    "            \n",
    "    else:\n",
    "        y_pred = xgb.predict(x.reshape(1, -1))[0]\n",
    "\n",
    "        if i % 50 == 0:\n",
    "            y_pred_history = xgb.predict(X_test[:i+1]).reshape(-1, 1)\n",
    "            f1_scores_2.append(f1_score(y_test[:i+1], y_pred_history))\n",
    "\n",
    "print(f1_scores_2)"
   ]
  },
  {
   "cell_type": "code",
   "execution_count": 38,
   "id": "837136a7",
   "metadata": {
    "execution": {
     "iopub.execute_input": "2021-09-24T07:09:05.002832Z",
     "iopub.status.busy": "2021-09-24T07:09:05.002127Z",
     "iopub.status.idle": "2021-09-24T07:09:07.142596Z",
     "shell.execute_reply": "2021-09-24T07:09:07.142006Z",
     "shell.execute_reply.started": "2021-09-24T07:06:30.359345Z"
    },
    "papermill": {
     "duration": 2.178899,
     "end_time": "2021-09-24T07:09:07.142736",
     "exception": false,
     "start_time": "2021-09-24T07:09:04.963837",
     "status": "completed"
    },
    "tags": []
   },
   "outputs": [
    {
     "name": "stdout",
     "output_type": "stream",
     "text": [
      "average f1 score: 0.6628706638669151\n"
     ]
    }
   ],
   "source": [
    "print(\"average f1 score: \" + str(sum(f1_scores_2)/len(f1_scores_2)))"
   ]
  },
  {
   "cell_type": "code",
   "execution_count": 39,
   "id": "816ed56d",
   "metadata": {
    "execution": {
     "iopub.execute_input": "2021-09-24T07:09:07.217395Z",
     "iopub.status.busy": "2021-09-24T07:09:07.216317Z",
     "iopub.status.idle": "2021-09-24T07:09:07.218456Z",
     "shell.execute_reply": "2021-09-24T07:09:07.218984Z",
     "shell.execute_reply.started": "2021-09-24T07:06:32.807992Z"
    },
    "papermill": {
     "duration": 0.042094,
     "end_time": "2021-09-24T07:09:07.219159",
     "exception": false,
     "start_time": "2021-09-24T07:09:07.177065",
     "status": "completed"
    },
    "tags": []
   },
   "outputs": [
    {
     "data": {
      "image/png": "[encoded data removed]",
      "text/plain": [
       "<Figure size 1800x216 with 1 Axes>"
      ]
     },
     "metadata": {
      "needs_background": "light"
     },
     "output_type": "display_data"
    }
   ],
   "source": [
    "f1_array = np.array(f1_scores)\n",
    "f1_2_array = np.array(f1_scores_2)\n",
    "xs = [x for x in range(len(f1_scores))]\n",
    "plt.rcParams['figure.figsize'] = [25,3]\n",
    "for i in cleaned_spots:\n",
    "    plt.axvline(x=i)\n",
    "plt.scatter(xs, f1_array)\n",
    "plt.scatter(xs, f1_2_array)\n",
    "plt.title(\"XGBoost with and without Drift Detection\")\n",
    "plt.show()\n"
   ]
  },
  {
   "cell_type": "code",
   "execution_count": 42,
   "id": "780772d3",
   "metadata": {
    "execution": {
     "iopub.execute_input": "2021-09-24T07:09:07.292718Z",
     "iopub.status.busy": "2021-09-24T07:09:07.291785Z",
     "iopub.status.idle": "2021-09-24T07:09:07.686260Z",
     "shell.execute_reply": "2021-09-24T07:09:07.686788Z",
     "shell.execute_reply.started": "2021-09-24T07:06:32.816563Z"
    },
    "papermill": {
     "duration": 0.43345,
     "end_time": "2021-09-24T07:09:07.686954",
     "exception": false,
     "start_time": "2021-09-24T07:09:07.253504",
     "status": "completed"
    },
    "tags": []
   },
   "outputs": [
    {
     "name": "stdout",
     "output_type": "stream",
     "text": [
      "[]\n"
     ]
    }
   ],
   "source": [
    "from sklearn.metrics import f1_score as sk_f1_score\n",
    "\n",
    "X = data[['nswprice', 'nswdemand', 'vicprice', 'vicdemand']].values\n",
    "y = data['class'].values\n",
    "X_train, X_test, y_train, y_test = X[:2500], X[2500:], y[:2500], y[2500:]\n",
    "\n",
    "xgb = XGBClassifier()\n",
    "adwin = ADWIN(delta=0.002)\n",
    "\n",
    "def f1_score_3(y_true, y_pred):\n",
    "    return sk_f1_score(y_true, y_pred, average='macro')\n",
    "\n",
    "f1_scores_3 = []\n",
    "drift_spots_2 = []\n",
    "\n",
    "for i, (x, y_true) in enumerate(zip(X_test, y_test)):\n",
    "    if i < 2500:\n",
    "        #if i % 50 == 0:\n",
    "            if X_train.shape[0] > 0:\n",
    "                xgb.fit(X_train, y_train)\n",
    "            \n",
    "    else:\n",
    "        y_pred = xgb.predict(x.reshape(1, -1))[0]\n",
    "        adwin.update(int(y_pred == y_true))\n",
    "\n",
    "        if i % 50 == 0:\n",
    "            y_pred_history = xgb.predict(X_test[:i+1]).reshape(-1, 1)\n",
    "            f1_scores.append(f1_score(y_test[:i+1], y_pred_history))\n",
    "\n",
    "        if adwin.drift_detected:\n",
    "            drift_spots_2.append(i)\n",
    "            xgb = XGBClassifier()\n",
    "            xgb.fit(X[i-2500:i], y[i-2500:i])\n",
    "            adwin = ADWIN()\n",
    "\n",
    "print(f1_scores_3)"
   ]
  },
  {
   "cell_type": "code",
   "execution_count": null,
   "id": "6144efb9",
   "metadata": {},
   "outputs": [],
   "source": []
  }
 ],
 "metadata": {
  "kernelspec": {
   "display_name": "Python 3 (ipykernel)",
   "language": "python",
   "name": "python3"
  },
  "language_info": {
   "codemirror_mode": {
    "name": "ipython",
    "version": 3
   },
   "file_extension": ".py",
   "mimetype": "text/x-python",
   "name": "python",
   "nbconvert_exporter": "python",
   "pygments_lexer": "ipython3",
   "version": "3.9.12"
  },
  "papermill": {
   "default_parameters": {},
   "duration": 82.832582,
   "end_time": "2021-09-24T07:09:15.662559",
   "environment_variables": {},
   "exception": null,
   "input_path": "__notebook__.ipynb",
   "output_path": "__notebook__.ipynb",
   "parameters": {},
   "start_time": "2021-09-24T07:07:52.829977",
   "version": "2.3.3"
  }
 },
 "nbformat": 4,
 "nbformat_minor": 5
}
