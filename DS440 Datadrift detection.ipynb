{
 "cells": [
  {
   "cell_type": "code",
   "execution_count": 17,
   "id": "95efb5f6",
   "metadata": {},
   "outputs": [],
   "source": [
    "import pandas as pd\n",
    "from evidently.dashboard import Dashboard\n",
    "from evidently.dashboard.tabs import DataDriftTab"
   ]
  },
  {
   "cell_type": "code",
   "execution_count": 22,
   "id": "7173521d",
   "metadata": {},
   "outputs": [
    {
     "name": "stdout",
     "output_type": "stream",
     "text": [
      "Index(['ID', 'LIMIT_BAL', 'SEX', 'EDUCATION', 'MARRIAGE', 'AGE', 'PAY_0',\n",
      "       'PAY_2', 'PAY_3', 'PAY_4', 'PAY_5', 'PAY_6', 'BILL_AMT1', 'BILL_AMT2',\n",
      "       'BILL_AMT3', 'BILL_AMT4', 'BILL_AMT5', 'BILL_AMT6', 'PAY_AMT1',\n",
      "       'PAY_AMT2', 'PAY_AMT3', 'PAY_AMT4', 'PAY_AMT5', 'PAY_AMT6',\n",
      "       'default.payment.next.month'],\n",
      "      dtype='object')\n"
     ]
    }
   ],
   "source": [
    "df = pd.read_csv(r\"C:\\Users\\sidaj\\OneDrive\\Desktop\\DS440\\UCI_Credit_Card.csv\")\n",
    "print(df.columns)"
   ]
  },
  {
   "cell_type": "code",
   "execution_count": 23,
   "id": "974e7720",
   "metadata": {},
   "outputs": [
    {
     "name": "stdout",
     "output_type": "stream",
     "text": [
      "Data Drift saved\n"
     ]
    }
   ],
   "source": [
    "credit_data_drift_dashboard = Dashboard(tabs=[DataDriftTab(verbose_level=1)])\n",
    "credit_data_drift_dashboard.calculate(df[:25000], df[25000:], column_mapping=None)\n",
    "credit_data_drift_dashboard.save('DataDrift.html')\n",
    "print('Data Drift saved')"
   ]
  },
  {
   "cell_type": "code",
   "execution_count": 24,
   "id": "fd72dca8",
   "metadata": {},
   "outputs": [
    {
     "name": "stdout",
     "output_type": "stream",
     "text": [
      "Index(['ID', 'LIMIT_BAL', 'SEX', 'EDUCATION', 'MARRIAGE', 'AGE', 'PAY_0',\n",
      "       'PAY_2', 'PAY_3', 'PAY_4', 'PAY_5', 'PAY_6', 'BILL_AMT1', 'BILL_AMT2',\n",
      "       'BILL_AMT3', 'BILL_AMT4', 'BILL_AMT5', 'BILL_AMT6', 'PAY_AMT1',\n",
      "       'PAY_AMT2', 'PAY_AMT3', 'PAY_AMT4', 'PAY_AMT5', 'PAY_AMT6',\n",
      "       'default.payment.next.month'],\n",
      "      dtype='object')\n"
     ]
    }
   ],
   "source": [
    "dfootball = pd.read_csv(r\"C:\\Users\\sidaj\\Downloads\\archive (7)\\AmericanFootball98.csv\")\n",
    "print(df.columns)"
   ]
  },
  {
   "cell_type": "code",
   "execution_count": 27,
   "id": "95b13e10",
   "metadata": {},
   "outputs": [
    {
     "name": "stderr",
     "output_type": "stream",
     "text": [
      "C:\\Users\\sidaj\\anaconda3\\lib\\site-packages\\scipy\\stats\\_stats_py.py:7412: RuntimeWarning:\n",
      "\n",
      "divide by zero encountered in divide\n",
      "\n",
      "C:\\Users\\sidaj\\anaconda3\\lib\\site-packages\\scipy\\stats\\_stats_py.py:7412: RuntimeWarning:\n",
      "\n",
      "divide by zero encountered in divide\n",
      "\n",
      "C:\\Users\\sidaj\\anaconda3\\lib\\site-packages\\scipy\\stats\\_stats_py.py:7412: RuntimeWarning:\n",
      "\n",
      "divide by zero encountered in divide\n",
      "\n",
      "C:\\Users\\sidaj\\anaconda3\\lib\\site-packages\\scipy\\stats\\_stats_py.py:7412: RuntimeWarning:\n",
      "\n",
      "divide by zero encountered in divide\n",
      "\n",
      "C:\\Users\\sidaj\\anaconda3\\lib\\site-packages\\scipy\\stats\\_stats_py.py:7412: RuntimeWarning:\n",
      "\n",
      "divide by zero encountered in divide\n",
      "\n"
     ]
    },
    {
     "name": "stdout",
     "output_type": "stream",
     "text": [
      "Football Data Drift saved\n"
     ]
    }
   ],
   "source": [
    "football_data_drift_dashboard = Dashboard(tabs=[DataDriftTab(verbose_level=1)])\n",
    "football_data_drift_dashboard.calculate(dfootball[:250], dfootball[250:], column_mapping=None)\n",
    "football_data_drift_dashboard.save('FootballDataDrift.html')\n",
    "print('Football Data Drift saved')"
   ]
  },
  {
   "cell_type": "code",
   "execution_count": null,
   "id": "564bc179",
   "metadata": {},
   "outputs": [],
   "source": []
  }
 ],
 "metadata": {
  "kernelspec": {
   "display_name": "Python 3 (ipykernel)",
   "language": "python",
   "name": "python3"
  },
  "language_info": {
   "codemirror_mode": {
    "name": "ipython",
    "version": 3
   },
   "file_extension": ".py",
   "mimetype": "text/x-python",
   "name": "python",
   "nbconvert_exporter": "python",
   "pygments_lexer": "ipython3",
   "version": "3.9.12"
  }
 },
 "nbformat": 4,
 "nbformat_minor": 5
}
